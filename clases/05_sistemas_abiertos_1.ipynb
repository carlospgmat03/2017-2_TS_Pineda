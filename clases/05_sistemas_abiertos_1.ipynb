{
 "cells": [
  {
   "cell_type": "markdown",
   "metadata": {
    "heading_collapsed": true
   },
   "source": [
    "# Matriz de densidad I"
   ]
  },
  {
   "cell_type": "markdown",
   "metadata": {
    "heading_collapsed": true,
    "hidden": true
   },
   "source": [
    "## Nuestro estado y un primer observable"
   ]
  },
  {
   "cell_type": "markdown",
   "metadata": {
    "hidden": true
   },
   "source": [
    "Consideremos un qubit, en particular un átomo con espín $1/2$. Vamos a considerar diferentes estados y diferentes mediciones. \n",
    "\n",
    "Si el estado de la partícula es \n",
    "$$\n",
    "|\\psi \\rangle = | \\uparrow \\rangle = |0 \\rangle\n",
    "$$\n",
    "y medimos, por ejemplo, $\\sigma_z$, tenemos el siguiente valor esperado:\n",
    "$$\n",
    "\\langle \\psi | \\sigma_z |\\psi \\rangle = \\langle 0|\\sigma_z |0\\rangle = \\langle 0|0\\rangle =1\n",
    "$$\n",
    "(estamos midiendo el espín, módulo el factor trivial $\\hbar/2$.\n",
    "\n",
    "Quizá mas importante es saber como se distribuyen nuestras mediciones. Para esto, expandimos el estado a medir en los eigenvectores del observable e interpretamos la norma al cuadrado de los coeficientes, como probabilidades de medición. En este caso es tan trivial que puede pasar desapercibido. Para hacer explicitos los eigenvectores del observable, expresamos \n",
    "$$\n",
    "\\sigma_z = |0 \\rangle \\langle 0 | -|1 \\rangle \\langle 1 |\n",
    "$$\n",
    "de donde concluimos que los eigenvectores de $\\sigma_z$ son \n",
    "$$\n",
    "\\{ |0 \\rangle , |1 \\rangle \\}.\n",
    "$$\n",
    "Entonces, expresamos nuestro estado como \n",
    "$$\n",
    "|\\psi \\rangle = 1 |0 \\rangle + 0 |1 \\rangle.\n",
    "$$\n",
    "De aca interpretamos que al medir tenemos una probabilidad de \n",
    "* 1 de obtener el eigenvalor asociado a $|0 \\rangle$ y \n",
    "* 0 de obtener el eigenvalor asociado a $|1 \\rangle$."
   ]
  },
  {
   "cell_type": "markdown",
   "metadata": {
    "hidden": true
   },
   "source": [
    "**Otros observables**\n",
    "\n",
    "Repetiremos el procedimiento, pero para otros observables, y estudiaremos la estadística de las mediciones. Consideremos ahora \n",
    "$$\n",
    "\\sigma_x = \n",
    "\\begin{pmatrix}\n",
    "0 & 1 \\\\\n",
    "1 & 0 \n",
    "\\end{pmatrix}\n",
    "=\n",
    "|x_+ \\rangle \\langle + | -|x_- \\rangle \\langle - |\n",
    "$$\n",
    "con \n",
    "$$\n",
    "|x_\\pm \\rangle = \\frac{|0\\rangle \\pm |1 \\rangle}{\\sqrt{2}}.\n",
    "$$\n",
    "Es decir, tiene la misma estructura que $\\sigma_z$, pero con otros eigenvectores. \n",
    "\n",
    "Nuestro estado ahora lo podemos expresar como \n",
    "$$\n",
    "|0\\rangle = \\frac{1}{\\sqrt{2}} \\frac{|0\\rangle + |1 \\rangle}{\\sqrt{2}} + \\frac{1}{\\sqrt{2}} \\frac{|0\\rangle -|1 \\rangle}{\\sqrt{2}} \n",
    "= \\frac{1}{\\sqrt{2}} |x_+ \\rangle + \\frac{1}{\\sqrt{2}} | x_- \\rangle .\n",
    "$$\n",
    "De aca podemos interpretar las probabilidades de los diferentes resultados al medir $\\sigma_x$:\n",
    "* $\\frac{1}{2}$ de obtener el eigenvalor asociado a $|x_+ \\rangle$ y \n",
    "* $\\frac{1}{2}$ de obtener el eigenvalor asociado a $|x_- \\rangle$."
   ]
  },
  {
   "cell_type": "markdown",
   "metadata": {
    "hidden": true
   },
   "source": [
    "Finalmente, \n",
    "$$\n",
    "\\sigma_y = \n",
    "\\begin{pmatrix}\n",
    "0 & -i \\\\\n",
    "i & 0 \n",
    "\\end{pmatrix}\n",
    "=\n",
    "|y_+ \\rangle \\langle + | -|y_- \\rangle \\langle - |\n",
    "$$\n",
    "con \n",
    "$$\n",
    "|y_\\pm \\rangle = \\frac{|0\\rangle \\pm i |1 \\rangle}{\\sqrt{2}}.\n",
    "$$\n",
    "y\n",
    "$$\n",
    "|0\\rangle =  \n",
    "\\frac{1}{\\sqrt{2}} |y_+ \\rangle + \\frac{1}{\\sqrt{2}} | y_- \\rangle .\n",
    "$$\n",
    "por lo que obtenemos las probabilidades de los diferentes resultados al medir $\\sigma_y$:\n",
    "* $\\frac{1}{2}$ de obtener el eigenvalor asociado a $|y_+ \\rangle$ y \n",
    "* $\\frac{1}{2}$ de obtener el eigenvalor asociado a $|y_- \\rangle$.\n"
   ]
  },
  {
   "cell_type": "markdown",
   "metadata": {
    "hidden": true
   },
   "source": [
    "## Una situación física nueva "
   ]
  },
  {
   "cell_type": "markdown",
   "metadata": {
    "hidden": true
   },
   "source": [
    "Ahora supongamos que en _cada medición_ elegimos con probabilidad $1/2$ el estado $|0\\rangle$ y con probabilidad $1/2$ el estado $|1\\rangle$. Tendremos la siguiente tabla:\n",
    "* $\\frac{1}{2}$ de obtener el eigenvalor asociado a $|x_+ \\rangle$ \n",
    "* $\\frac{1}{2}$ de obtener el eigenvalor asociado a $|x_- \\rangle$\n",
    "* $\\frac{1}{2}$ de obtener el eigenvalor asociado a $|y_+ \\rangle$ \n",
    "* $\\frac{1}{2}$ de obtener el eigenvalor asociado a $|y_- \\rangle$\n",
    "* $\\frac{1}{2}$ de obtener el eigenvalor asociado a $|z_+ \\rangle$ y \n",
    "* $\\frac{1}{2}$ de obtener el eigenvalor asociado a $|z_- \\rangle$.\n",
    "No existe _ningún_ estado *puro* que nos de esa estadística. Para incorporar la ignorancia que acabamos de introducir,  se propone el concepto de _matriz de densidad_. "
   ]
  },
  {
   "cell_type": "markdown",
   "metadata": {
    "hidden": true
   },
   "source": [
    "El concepto de matriz de densidad se usa cuando tenemos una superposición estadístisca de varios estados. En este caso,\n",
    "Si tenemos cierta probabilidad $p_i$ de tener un estado $|\\psi_i\\rangle$, entonces la matriz de densidad correspondiente es\n",
    "$$\n",
    "\\rho = \\sum_i p_i |\\psi_i\\rangle\\langle\\psi_i|.\n",
    "$$\n",
    "Se dice que tenemos una superposicion estadística de los estados $|\\psi_i\\rangle$. Nótese que ahora especificamos el estado con una _matriz_ y no con un vector. \n",
    "\n",
    "En el ejemplo anterior, nuestro estado cuántico sería\n",
    "$$\n",
    "\\rho = \\frac{1}{2} |0\\rangle \\langle 0| + \\frac{1}{2} |1\\rangle \\langle 1| = \\frac{1}{2}\n",
    "\\begin{pmatrix}\n",
    "1 & 0 \\\\\n",
    "0& 1 \n",
    "\\end{pmatrix}.\n",
    "$$\n",
    "\n",
    "La matriz de densidad permite introducir el concepto de ensamble en mecánica cuantica. Tambien permite introducir el concepto de ignorancia, por ejemplo con respecto a una medición. Dos observadores, uno con mas información que otro, van a describir el mismo estado con diferentes objetos matemáticos. Esto nos hace reflexionar acerca de la validez o \"realidad\" de la función de onda (o de la matriz de densidad). Una cita de Peres es bastante util en este punto:\n",
    "\n",
    "_Many physicists, perhaps a majority, have an intuitive, realistic worldview and consider a quantum state as a physical entity. Its value may not be known, but in principle the quantum state of a physical system would be well defined. However, there is no experimental evidence whatsoever to support this naive belief. On the contrary, if this view is taken seriously, it may lead to bizarreconsequences,called \"quantumparadoxes.\"_\n",
    "\n",
    "Los valores esperados se calculan como se explicó arriba, y si antes haciamos la evolución como \n",
    "$$\n",
    "|\\psi(t)\\rangle= U(t)|\\psi(0)\\rangle\n",
    "$$\n",
    "ahora simplemente, para la matriz de densidad, la hacemos como \n",
    "$$\n",
    "\\rho=U(t)\\rho(0)U^\\dagger(t)\n",
    "$$\n",
    "Los postulados de medición funcionan de manera similar, es decir, en vez de proyectar \n",
    "$$\n",
    "|\\psi\\rangle \\to \\propto P_m |\\psi\\rangle\n",
    "$$\n",
    "proyectamos a \n",
    "$$\n",
    "\\rho \\to \\propto P_m\\rho P_m.\n",
    "$$"
   ]
  },
  {
   "cell_type": "markdown",
   "metadata": {
    "heading_collapsed": true
   },
   "source": [
    "# Sistemas compuestos "
   ]
  },
  {
   "cell_type": "markdown",
   "metadata": {
    "heading_collapsed": true,
    "hidden": true
   },
   "source": [
    "## El espacio tensorial"
   ]
  },
  {
   "cell_type": "markdown",
   "metadata": {
    "hidden": true
   },
   "source": [
    "Sea $A+B$ un sistema bipartito, y $\\mathcal{H}=\\mathcal{H}_A\\otimes\\mathcal{H}_B$ el espacio de Hilbert asociado al mismo. Consideremos una base en cada uno de los espacios\n",
    "\\begin{equation}\n",
    "\\{|i\\rangle_{(A,B)} \\}.\n",
    "\\end{equation}\n",
    "Por ejemplo, si tenemos dos qubits, el $A$ y el $B$, las dos bases en cuestion serían\n",
    "\\begin{equation}\n",
    "\\{|0\\rangle_A,|1\\rangle_A \\}\n",
    "\\end{equation}\n",
    "y\n",
    "\\begin{equation}\n",
    "\\{|0\\rangle_B,|1\\rangle_B \\}.\n",
    "\\end{equation}\n",
    "Los elementos del espacio producto serán combinaciones lineales de \n",
    "\\begin{equation}\n",
    "|i j\\rangle\\equiv |i\\rangle_{(A)}\\otimes|j\\rangle_{(B)}.\n",
    "\\end{equation}\n",
    "Es decir, cualquier estado se puede escribir como \n",
    "\\begin{equation}\n",
    "|\\psi \\rangle = \\sum_{i,j}\\psi_{ij}|ij\\rangle.\n",
    "\\end{equation}\n",
    "Por ejemplo, para un sistema de dos qubits, podemos escribir que el estado más general es \n",
    "\\begin{equation}\n",
    "|\\psi \\rangle = \n",
    "\\psi_{00}|0\\rangle_{(A)}|0\\rangle_{(B)}+\n",
    "\\psi_{01}|0\\rangle_{(A)}|1\\rangle_{(B)}+\n",
    "\\psi_{10}|1\\rangle_{(A)}|0\\rangle_{(B)}+\n",
    "\\psi_{11}|1\\rangle_{(A)}|1\\rangle_{(B)}\n",
    "=\n",
    "\\psi_{00}|00\\rangle+\n",
    "\\psi_{01}|01\\rangle+\n",
    "\\psi_{10}|10\\rangle+\n",
    "\\psi_{11}|11\\rangle.\n",
    "\\end{equation}"
   ]
  },
  {
   "cell_type": "markdown",
   "metadata": {
    "hidden": true
   },
   "source": [
    "## Producto punto"
   ]
  },
  {
   "cell_type": "markdown",
   "metadata": {
    "hidden": true
   },
   "source": [
    "El producto punto se _define_ sobre estados producto de la siguiente manera:\n",
    "$$\n",
    "(\\langle\\psi_1|\\otimes\\langle \\phi_1|)(|\\psi_2\\rangle\\otimes|\\phi_2\\rangle)\\equiv\n",
    "\\langle\\psi_1|\\psi_2\\rangle \\langle \\phi_1|\\phi_2\\rangle.\n",
    "$$\n",
    "A estados que no sean de la forma producto, se usan la linealidad (o antilinealidad) del producto para simplificarlo y poder aplicar la formula de arriba."
   ]
  },
  {
   "cell_type": "markdown",
   "metadata": {
    "hidden": true
   },
   "source": [
    "## Estados separables y enlazados"
   ]
  },
  {
   "cell_type": "markdown",
   "metadata": {
    "hidden": true
   },
   "source": [
    "No todos los estados en el espacio producto son producto de estados. Consideremos por ejemplo el estado\n",
    "$$\n",
    "|\\text{Bell}\\rangle\n",
    "= \\frac{|00\\rangle+|11\\rangle}{\\sqrt{2}}.\n",
    "$$\n",
    "Dicho estado no es el resultado de un producto. Para comprobarlo, veamos que\n",
    "\\begin{align}\n",
    "|\\text{Bell}\\rangle &\\ne\n",
    "(\\alpha_0|0\\rangle_A +\\alpha_1|1\\rangle_A)\\otimes\n",
    "(\\beta_0|0\\rangle_B +\\beta_1|1\\rangle_B)\\\\\n",
    "&=\n",
    "\\alpha_0\\beta_0|00\\rangle+\n",
    "\\alpha_0\\beta_1|01\\rangle+\n",
    "\\alpha_1\\beta_0|10\\rangle+\n",
    "\\alpha_1\\beta_1|11\\rangle.\n",
    "\\end{align}\n",
    "Para poder ver que es asi, vamos a igualar los coeficientes a lado y lado de la ecuación. Esto quiere decir que \n",
    "\\begin{equation}\n",
    "\\alpha_0\\beta_0 = \\frac{1}{\\sqrt{2}},\\quad\n",
    "\\alpha_0\\beta_1 = 0,\\quad\n",
    "\\alpha_1\\beta_0 = 0,\\quad\n",
    "\\alpha_1\\beta_1 = \\frac{1}{\\sqrt{2}}.\n",
    "\\end{equation}\n",
    "Ahora, para la segunda linea requerimos que $\\alpha_0 \\beta_1=0$, lo que implicaria que $\\alpha_0=$ ó $\\beta_1=0$. De manera similar se requiere $\\alpha_1 \\beta_0=0$, lo que implica que $\\alpha_1=0$ o que $\\beta_0=0$. Cualquier elección nos lleva a una contradicción. \n",
    "\n",
    "Definimos los estados _separables_ como aquellos que tienen la forma \n",
    "$$\n",
    " |\\psi\\rangle_A\\otimes |\\phi\\rangle_B\n",
    "$$\n",
    "y definiremos como estados _enlazados_ aquellos que no son separables.\n",
    "\n",
    "Los estados enlazados son muy diferentes a los estados clásicos y tienen correlaciones que no podemos explicar clásicamente. Su estudio es toda un área en información cuántica. "
   ]
  },
  {
   "cell_type": "markdown",
   "metadata": {
    "hidden": true
   },
   "source": [
    "* Verificar que el estado de Bob antes de aprender los resultados de la medición de Alice, es equivalente a tener un estado $|0\\rangle$ o $|1\\rangle$ con igual probabilidad.\n",
    "* Hacer un script que verifique el la traza parcial de un estado aleatorio, tiene traza uno y es semipositiva. \n",
    "* Estudiar la distribución de la pureza, $P=\\text{tr} \\rho^2$, de un sistema como función de la dimension del sistema central y del ambiente. Presentarlo en dos gráficas. \n",
    "* Calcular la entropía de von Neumann vs la pureza para estados mixtos aleatorios."
   ]
  },
  {
   "cell_type": "markdown",
   "metadata": {},
   "source": [
    "# Por hacer para la siguiente iteracion"
   ]
  }
 ],
 "metadata": {
  "kernelspec": {
   "display_name": "Julia 0.5.0",
   "language": "julia",
   "name": "julia-0.5"
  },
  "language_info": {
   "file_extension": ".jl",
   "mimetype": "application/julia",
   "name": "julia",
   "version": "0.5.0"
  },
  "latex_envs": {
   "bibliofile": "biblio.bib",
   "cite_by": "apalike",
   "current_citInitial": 1,
   "eqLabelWithNumbers": true,
   "eqNumInitial": 0
  }
 },
 "nbformat": 4,
 "nbformat_minor": 0
}
