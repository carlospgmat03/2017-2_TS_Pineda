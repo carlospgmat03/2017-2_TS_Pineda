{
 "cells": [
  {
   "cell_type": "markdown",
   "metadata": {},
   "source": [
    "# La transformada cuantica de Fourier"
   ]
  },
  {
   "cell_type": "markdown",
   "metadata": {
    "heading_collapsed": true
   },
   "source": [
    "## Ejemplo de transformada de Fourier"
   ]
  },
  {
   "cell_type": "markdown",
   "metadata": {
    "hidden": true
   },
   "source": [
    "De acuerdo a la documentación de Julia [http://docs.julialang.org/en/release-0.5/stdlib/math/], la formula para la transformada es \n",
    "\\begin{equation}\n",
    "\\operatorname{DFT}(A)[k] =\n",
    "  \\sum_{n=1}^{\\operatorname{length}(A)}\n",
    "  \\exp\\left(-i\\frac{2\\pi\n",
    "  (n-1)(k-1)}{\\operatorname{length}(A)} \\right) A[n].\n",
    "\\end{equation}\n",
    "De hecho podemos hacer la relación con la transformada continua, y vemos como estamos simplemente sacando las componentes planas del vector $A$ al vector $\\operatorname{DFT}(A)$."
   ]
  },
  {
   "cell_type": "code",
   "execution_count": null,
   "metadata": {
    "collapsed": true,
    "hidden": true
   },
   "outputs": [],
   "source": [
    "using PyPlot"
   ]
  },
  {
   "cell_type": "code",
   "execution_count": null,
   "metadata": {
    "collapsed": false,
    "hidden": true
   },
   "outputs": [],
   "source": [
    "f = [abs(x) <= 1 ? 1 : 0 for x in -5:0.1:5];\n",
    "F = fft(f);"
   ]
  },
  {
   "cell_type": "code",
   "execution_count": null,
   "metadata": {
    "collapsed": false,
    "hidden": true
   },
   "outputs": [],
   "source": [
    "plotf=plot(f, color=\"red\", linewidth=2.0);"
   ]
  },
  {
   "cell_type": "code",
   "execution_count": null,
   "metadata": {
    "collapsed": false,
    "hidden": true
   },
   "outputs": [],
   "source": [
    "plotF=plot(abs(F), color=\"red\", linewidth=2.0);"
   ]
  },
  {
   "cell_type": "markdown",
   "metadata": {
    "heading_collapsed": true
   },
   "source": [
    "## Carga de archivos básicos"
   ]
  },
  {
   "cell_type": "code",
   "execution_count": null,
   "metadata": {
    "collapsed": false,
    "hidden": true
   },
   "outputs": [],
   "source": [
    "using PyPlot\n",
    "push!(LOAD_PATH, \".\");\n",
    "using quantum\n",
    "names(quantum)"
   ]
  },
  {
   "cell_type": "markdown",
   "metadata": {
    "heading_collapsed": true
   },
   "source": [
    "## Chop function"
   ]
  },
  {
   "cell_type": "markdown",
   "metadata": {
    "hidden": true
   },
   "source": [
    "Comenzaremos por hacer una función que es útil para hacer debugin y evitar la basura en pantalla. Esta me aproxima cosas cercanas a cero, a un cero exacto. \n",
    "\n",
    "Para esto, vamos a utilizar funciones en las que se especifica el *tipo de entrada* de la función. Esto es un aspecto en que podemos enfatizar para optimizar nuestras rutinas. Las palabras claves son *type stability*. Para esto, usamos algo como \n",
    "~~~\n",
    "x::Float64\n",
    "~~~\n",
    "de manera que la definición solo aplica cuando el argumento es del tipo Float64. \n",
    "\n",
    "De manera similar, vamos a especificar la salida de la función, requiriendo que nuestro \"0\" sea un cero con varios puntos decimales y así evitar mezclar tipos. \n",
    "\n",
    "Finalmente, usaremos el concepto de *function overloading* que nos permite dar a varias funciones el mismo nombre, siempre que estas estén especificadas sobre diferentes tipos de variables. Así, al llamar la función, julia puede saber cual versión llamar, dependiendo del argumento."
   ]
  },
  {
   "cell_type": "code",
   "execution_count": null,
   "metadata": {
    "collapsed": false,
    "hidden": true
   },
   "outputs": [],
   "source": [
    "function chopnumber(x::Float64, epsilon=10e-14)   \n",
    "    if abs(x) < epsilon\n",
    "        return Float64(0)\n",
    "    else\n",
    "        return x\n",
    "    end\n",
    "end\n",
    "\n",
    "function chopnumber(x::Complex{Float64}, epsilon=10e-14)   \n",
    "    return chopnumber(real(x),epsilon)+im*chopnumber(imag(x),epsilon)\n",
    "end\n",
    "\n",
    "function chopnumber(y::Array{Complex{Float64},1}, epsilon=10e-14) \n",
    "    x=copy(y)\n",
    "    for i=1:length(x)\n",
    "        x[i]=chopnumber(x[i],epsilon)\n",
    "    end\n",
    "    return x\n",
    "end\n",
    "\n",
    "function chopnumber(y::Array{Complex{Float64},2}, epsilon=10e-14) \n",
    "    x=copy(y)\n",
    "    for i=1:length(x)\n",
    "        x[i]=chopnumber(x[i],epsilon)\n",
    "    end\n",
    "    return x\n",
    "end"
   ]
  },
  {
   "cell_type": "markdown",
   "metadata": {
    "heading_collapsed": true
   },
   "source": [
    "## Hadamard, phase gate, and controlled phase gate"
   ]
  },
  {
   "cell_type": "markdown",
   "metadata": {
    "hidden": true
   },
   "source": [
    "La compuerta Hadamard se usa para crear superposiciones. En particular, actúa como \n",
    "\\begin{align}\n",
    "H|0\\rangle &= \\frac{|0\\rangle + |1\\rangle}{\\sqrt{2}}\\\\\n",
    "H|1\\rangle &= \\frac{|0\\rangle - |1\\rangle}{\\sqrt{2}}\n",
    "\\end{align}\n",
    "por lo que su representación matricial es simplemente\n",
    "\\begin{equation}\n",
    "H=\n",
    "\\frac{1}{\\sqrt{2}}\n",
    "\\begin{pmatrix}\n",
    "1 & 1 \\\\\n",
    "1 & -1\n",
    "\\end{pmatrix}.\n",
    "\\end{equation}"
   ]
  },
  {
   "cell_type": "code",
   "execution_count": null,
   "metadata": {
    "collapsed": false,
    "hidden": true
   },
   "outputs": [],
   "source": [
    "hadamard=[1 1; 1 -1]/sqrt(2);"
   ]
  },
  {
   "cell_type": "markdown",
   "metadata": {
    "hidden": true
   },
   "source": [
    "Se usa con frecuencia para crear una superposición de todos los estados de la base computacional. \n",
    "\n",
    "Crearemos una función que nos permitirá construir matrices de manera simple. Es la función que me general la representación vectorial de $|n\\rangle$ en la base computacional."
   ]
  },
  {
   "cell_type": "code",
   "execution_count": null,
   "metadata": {
    "collapsed": false,
    "hidden": true
   },
   "outputs": [],
   "source": [
    "function base_state(i,dim)\n",
    "    psi=zeros(Complex{Float64},dim)\n",
    "    psi[i+1]=1;\n",
    "    return psi\n",
    "end"
   ]
  },
  {
   "cell_type": "markdown",
   "metadata": {
    "hidden": true
   },
   "source": [
    "Podemos crear una superposición de todos los elementos de la base con una Hadamard sobre cada uno de los qubits:"
   ]
  },
  {
   "cell_type": "code",
   "execution_count": null,
   "metadata": {
    "collapsed": false,
    "hidden": true
   },
   "outputs": [],
   "source": [
    "n=3\n",
    "psi=base_state(0,2^n)\n",
    "for i=0:n-1\n",
    "    apply_unitary!(psi,hadamard,i)\n",
    "end\n",
    "psi"
   ]
  },
  {
   "cell_type": "markdown",
   "metadata": {
    "hidden": true
   },
   "source": [
    "Ahora vamos a estudiar el _phase gate_, que es simplemente añadir una fase a un qubit, si este esta en el estado $|1\\rangle$. Es decir, es \n",
    "\\begin{equation}\n",
    "\\begin{pmatrix}\n",
    "1 & 0 \\\\\n",
    "0 & \\text{exp}(i \\phi)\n",
    "\\end{pmatrix}\n",
    "\\end{equation}.\n",
    "\n",
    "En nuestro caso, estaremos interesados en la versión controlada. Es decir, si el qubit de control está en el estado $|1\\rangle$ aplicamos la compuerta, de lo contrario no la aplicamos. En caso de tener un _controled_-$u$, la operación que debemos aplicar sobre los dos qubits es \n",
    "\\begin{equation}\n",
    "1\\oplus u\n",
    "\\end{equation}\n",
    "y no $1\\otimes u$. En el caso particular del _controled phase_, obtendríamos \n",
    "\\begin{equation}\n",
    "\\begin{pmatrix}\n",
    "1 & 0 & 0 & 0 \\\\\n",
    "0 & 1 & 0 & 0 \\\\\n",
    "0 & 0 & 1 & 0 \\\\\n",
    "0 & 0 & 0 &\\text{exp}(i \\phi)\n",
    "\\end{pmatrix}\n",
    "\\end{equation}.\n",
    "\n",
    "Para implementarla, nótese que su acción sobre dos qubits es no trivial solo sobre el estado $|11\\rangle$, al que le aplica una fase. Usamos la función\n",
    "~~~\n",
    "testbit\n",
    "~~~\n",
    "y la operación AND, que es codificada en Julia como\n",
    "~~~\n",
    "&.\n",
    "~~~"
   ]
  },
  {
   "cell_type": "code",
   "execution_count": null,
   "metadata": {
    "collapsed": false,
    "hidden": true
   },
   "outputs": [],
   "source": [
    "function apply_control_phase!(psi, control_qubit, target_qubit,angle)\n",
    "    phase=exp(im*angle)\n",
    "    for i = 0: length(psi)-1\n",
    "        if testbit(i,control_qubit) & testbit(i,target_qubit)\n",
    "            psi[i+1]*=phase\n",
    "        end\n",
    "    end\n",
    "end "
   ]
  },
  {
   "cell_type": "markdown",
   "metadata": {
    "heading_collapsed": true
   },
   "source": [
    "## La transformada cuántica de Fourier [del libro de Nielsen y Chuang]"
   ]
  },
  {
   "cell_type": "markdown",
   "metadata": {
    "hidden": true
   },
   "source": [
    "Supongamos que tenemos un vector $\\vec x$ con componentes $x_j$. Entonces, la transformada de Fourier discreta de dicho vector es \n",
    "$$\n",
    "y_k =  \\frac{1}{\\sqrt{N}} \\sum_{j=0}^{N-1} x_j \\text{exp}\n",
    "\\big(\n",
    "\\frac{2\\pi \\text{i} j k}{N}\n",
    "\\big).\n",
    "$$\n",
    "\n",
    "Sea $U_\\text{QFT}$ el operador transformada de Fourier. La definiremos como \n",
    "$$\n",
    "U_\\text{QFT} \\sum_{j=0}^{N-1} x_j |j\\rangle\n",
    "= \n",
    " \\sum_{k=0}^{N-1} y_k |k\\rangle\n",
    "$$\n",
    "con el vector $\\vec y $ dado por la transformada discreta de Fourier arriba mencionada.\n",
    "Haciendo que los estados transformados sean justamente los de la base computacional, tenemos la identidad\n",
    "$$\n",
    "U_\\text{QFT} |j\\rangle =  \\frac{1}{\\sqrt{N}} \\sum_{k=0}^{N-1} \\text{exp}\n",
    "\\big(\n",
    "\\frac{2\\pi \\text{i} j k}{N}\n",
    "\\big) |k\\rangle.\n",
    "$$"
   ]
  },
  {
   "cell_type": "markdown",
   "metadata": {
    "hidden": true
   },
   "source": [
    "Para mostrar el circuito que realiza esta expresión, conviene dar una fórmula alternativa para la transformada de Fourier. Esta se basa en expresar algunos números en notación binaria. \n",
    "\\begin{align}\n",
    "|j\\rangle &\\to \\frac{1}{2^{n/2}} \\sum_{k=0}^{2^n-1} \\text{exp} \\left(\\frac{ 2\\pi \\text{i} jk}{2^n} \\right) |k\\rangle \\\\\n",
    "&= \\frac{1}{2^{n/2}} \\sum_{k_1=0}^1 \\cdots \\sum_{k_n=0}^1 \\text{exp} \n",
    "  \\left[2\\pi \\text{i} j \\left(\\sum_{l=1}^n k_l 2^{-l} \\right) \\right] |k_1 \\dots k_n \\rangle \\\\\n",
    "&= \\frac{1}{2^{n/2}} \\sum_{k_1=0}^1 \\cdots \\sum_{k_n=0}^1 \\bigotimes_{l=1}^n\n",
    "   \\text{exp} \n",
    "  \\left[2\\pi \\text{i} j k_l 2^{-l} \\right] |k_l \\rangle \\\\\n",
    "&= \\frac{1}{2^{n/2}}  \\bigotimes_{l=1}^n\n",
    "   \\sum_{k_l=0}^1\n",
    "   \\text{exp} \n",
    "  \\left[2\\pi \\text{i} j k_l 2^{-l} \\right] |k_l \\rangle \\\\\n",
    "&= \\frac{1}{2^{n/2}}  \\bigotimes_{l=1}^n\n",
    "   \\left(|0\\rangle +\n",
    "   \\text{exp} \n",
    "  \\left[2\\pi \\text{i} j 2^{-l} \\right] |1 \\rangle \\right) \\\\\n",
    "&= \\frac{\n",
    "\\left( |0\\rangle + e^{2\\pi \\text{i} 0.j_n} |1\\rangle \\right)\n",
    "\\otimes\n",
    "\\left( |0\\rangle + e^{2\\pi \\text{i} 0.j_{n-1}j_n} |1\\rangle \\right)\n",
    "\\otimes\n",
    "\\cdots\n",
    "\\otimes\n",
    "\\left( |0\\rangle + e^{2\\pi \\text{i} 0.j_1 j_2 \\cdots j_n} |1\\rangle \\right)\n",
    "}{2^{n/2}}\n",
    "\\end{align}\n",
    "\n",
    "1. La dimensión de mi sistema es $N = 2^n$.\n",
    "2. Separamos $k/2^n$ como un _string_ de ceros y unos, tanto en el exponente como en el ket.\n",
    "3. Notamos que el producto tensorial también es producto entre complejos, y bajamos la suma en el exponente como un producto tensorial.\n",
    "4. Factorizamos las sumas [suma y productos conmutan]\n",
    "5. Desarrollamos la suma interna\n",
    "6. Desarrollamos cada uno de los términos, teniendo en cuenta que la parte entera del exponente, después del $2\\pi$ no contribuye (y por lo tanto la ignoramos)."
   ]
  },
  {
   "cell_type": "markdown",
   "metadata": {
    "hidden": true
   },
   "source": [
    "El circuito estará compuesto por \n",
    "* compuertas Hadamard, para crear las superposiciones en cada qubit\n",
    "* _phase gates_ para poner la fase en el $|1\\rangle$ de cada qubit\n",
    "* controladas, por los otros qubits. \n",
    "\n",
    "\n",
    "![Alt](qft_circuit.png \"Title\")\n",
    "\n",
    "La compuerta controlada $R_k$ es la _controlled phase gate_ por una potencia inversa de 2:\n",
    "\\begin{equation}\n",
    "R_k = \n",
    "\\begin{pmatrix}\n",
    "1 & 0 \\\\\n",
    "0& e^{2\\pi \\text{i}/2^k}\n",
    "\\end{pmatrix}\n",
    "\\end{equation}\n",
    "\n",
    "Estudiaremos ahora que sucede cuando tomamos un estado de la base computacional \n",
    "\\begin{equation}\n",
    "|j_1 j_2 \\dots j_n\\rangle\n",
    "\\end{equation}\n",
    "como entrada para el circuito cuántico. Note que\n",
    "\\begin{equation}\n",
    "0.j_1 = \\begin{cases}\n",
    "0 & \\text{if } j_1= 0 \\\\\n",
    "1/2 & \\text{if } j_1= 1\n",
    "\\end{cases}\n",
    "\\end{equation}\n",
    "por lo que \n",
    "\\begin{equation}\n",
    "\\text{exp}(2\\pi \\text{i} 0.j_1) = \\begin{cases}\n",
    "1 & \\text{if } j_1= 0 \\\\\n",
    "-1 & \\text{if } j_1= 1\n",
    "\\end{cases}\n",
    "\\end{equation}\n",
    "y entonces el estado, después de aplicar el primer Hadamard es \n",
    "\\begin{equation}\n",
    "\\frac{1}{\\sqrt{2}}\\left(|0\\rangle + e^{2\\pi \\text{i} 0.j_1}|1\\rangle\\right)\\otimes\n",
    "|j_2 j_3 \\dots j_n\\rangle.\n",
    "\\end{equation}\n",
    "Al aplicar el $R_2$ controlado por el qubit 2 (en esta numeración), aplicaremos una fase \n",
    "$e^{2\\pi \\text{i}/2^k}=e^{2\\pi \\text{i}0.0j_2}$ al primer qubit, cuando está en uno. Así, el nuevo estado será\n",
    "\\begin{equation}\n",
    "\\frac{1}{\\sqrt{2}}\\left(|0\\rangle + e^{2\\pi \\text{i} 0.j_1 j_2}|1\\rangle\\right)\\otimes\n",
    "|j_2 j_3 \\dots j_n\\rangle.\n",
    "\\end{equation}\n",
    "Continuando con ese proceso, al finalizar esa secuencia de controlled R's, tendremos el siguiente estado\n",
    "\\begin{equation}\n",
    "\\frac{1}{\\sqrt{2}}\\left(|0\\rangle + e^{2\\pi \\text{i} 0.j_1 j_2\\cdots j_n}|1\\rangle\\right)\\otimes\n",
    "|j_2 j_3 \\dots j_n\\rangle.\n",
    "\\end{equation}\n",
    "\n",
    "Repetimos el procedimiento con el siguiente qubit y tendremos, despues del Hadamard y los controlled gates, el estado\n",
    "\\begin{equation}\n",
    "\\frac{1}{2^{2/2}}\n",
    "\\left(|0\\rangle + e^{2\\pi \\text{i} 0.j_1 j_2\\cdots j_n}|1\\rangle\\right)\\otimes\n",
    "\\left(|0\\rangle + e^{2\\pi \\text{i} 0.j_2 j_3\\cdots j_n}|1\\rangle\\right)\\otimes\n",
    "|j_3 j_4 \\dots j_n\\rangle.\n",
    "\\end{equation}\n",
    "Despues de hacer lo mismo con todos los qubits, tendremos el estado \n",
    "\\begin{equation}\n",
    "\\frac{1}{2^{n/2}}\n",
    "\\left(|0\\rangle + e^{2\\pi \\text{i} 0.j_1 j_2\\cdots j_n}|1\\rangle\\right) \\otimes \n",
    "\\left(|0\\rangle + e^{2\\pi \\text{i} 0.j_2 j_3\\cdots j_n}|1\\rangle\\right)\\otimes\n",
    "\\left(|0\\rangle + e^{2\\pi \\text{i} 0.j_3 j_4\\cdots j_n}|1\\rangle\\right) \\otimes\\cdots\\otimes\n",
    "\\left(|0\\rangle + e^{2\\pi \\text{i} 0.j_n}|1\\rangle\\right).\n",
    "\\end{equation}\n",
    "Lo único que hace falta para tener la transformada de Fourier del estado es hacer un _swap_ de todos los qubits. Esto son sólo $n/2$ compuertas. Finalmente, tenemos el estado transformada de Fourier. \n",
    "\\begin{equation}\n",
    " \\frac{\n",
    "\\left( |0\\rangle + e^{2\\pi \\text{i} 0.j_n} |1\\rangle \\right)\n",
    "\\otimes\n",
    "\\left( |0\\rangle + e^{2\\pi \\text{i} 0.j_{n-1}j_n} |1\\rangle \\right)\n",
    "\\otimes\n",
    "\\cdots\n",
    "\\otimes\n",
    "\\left( |0\\rangle + e^{2\\pi \\text{i} 0.j_1 j_2 \\cdots j_n} |1\\rangle \\right)\n",
    "}{2^{n/2}}\n",
    "\\end{equation}\n"
   ]
  },
  {
   "cell_type": "markdown",
   "metadata": {
    "hidden": true
   },
   "source": [
    "Para hacer el paso final, necesitamos hacer el swap gate. Acá de nuevo vamos a usar low-level bit programing. Comenzaremos por hacer un flip de un bit. Es decir, si el bit está en 0 lo pasamos a 1 y viceversa. De nuevo, usaremos una máscara para el bit \n",
    "~~~\n",
    " 1 << bit\n",
    "~~~\n",
    "que tiene un 1 en el bit indicado y 0 en el resto. \n",
    "\n",
    "También usaremos el operador `$` que actúa como XOR. Al combinarlo con la mascara, cambia solamente el bit en cuestion. Así, creamos la función  `flip_bit`"
   ]
  },
  {
   "cell_type": "code",
   "execution_count": null,
   "metadata": {
    "collapsed": false,
    "hidden": true
   },
   "outputs": [],
   "source": [
    "function flip_bit(number,bit)\n",
    "    number $ (1 << bit)\n",
    "end\n",
    "flip_bit(5,2)"
   ]
  },
  {
   "cell_type": "markdown",
   "metadata": {
    "hidden": true
   },
   "source": [
    "Ahora creamos la función `reverse_bits` que invierte el orden de los primeros `n` bits. Para esto vamos sobre la primera mitad de bits (usando la división entera `fld`). "
   ]
  },
  {
   "cell_type": "code",
   "execution_count": null,
   "metadata": {
    "collapsed": false,
    "hidden": true
   },
   "outputs": [],
   "source": [
    "function reverse_bits(i::Int,number_of_bits)\n",
    "    number=i\n",
    "    top_bit=fld(number_of_bits,2)\n",
    "    for i=0:(top_bit-1)            \n",
    "        if testbit(number,i) $ testbit(number,number_of_bits-1-i)\n",
    "            number=flip_bit(number,i)\n",
    "            number=flip_bit(number,number_of_bits-1-i)\n",
    "        end\n",
    "    end\n",
    "    return number\n",
    "end\n",
    "#@show reverse_bits(5,4)"
   ]
  },
  {
   "cell_type": "markdown",
   "metadata": {
    "hidden": true
   },
   "source": [
    "Para probar este código, tomamos los bits como un string y le hacemos un reverse. Para esto usamos funciones para la manipulacion de strings como `reverse` o al anteriormente usada `bin`"
   ]
  },
  {
   "cell_type": "code",
   "execution_count": null,
   "metadata": {
    "collapsed": false,
    "hidden": true
   },
   "outputs": [],
   "source": [
    "n=3\n",
    "for i=0:2^n-1\n",
    "    @show [reverse(bin(i,n)) bin(reverse_bits(i,n),n)]\n",
    "end\n",
    "n=17\n",
    "for i=0:2^n-1\n",
    "    if ~(reverse(bin(i,n))==bin(reverse_bits(i,n),n))\n",
    "        @show \"error\", i, n, bin(i,n)\n",
    "    end\n",
    "end"
   ]
  },
  {
   "cell_type": "markdown",
   "metadata": {
    "hidden": true
   },
   "source": [
    "Ahora, la debemos aplicar al estado completo. Para esto, y para controlar que no hacemos el loop doble, vamos a verificar que los dos números que vamos a intercambiar (por ejemplo el `011` con el `110`) estén en orden. Esta función no la vamos a verificar, pues al hacer el debuging de la QFT, que es más estricto, vemos que debe estar bien. "
   ]
  },
  {
   "cell_type": "code",
   "execution_count": null,
   "metadata": {
    "collapsed": false,
    "hidden": true
   },
   "outputs": [],
   "source": [
    "function reverse_bits!(psi::Array{Complex{Float64},1})\n",
    "    number_of_qubits = trailing_zeros(length(psi))\n",
    "    for i=0:2^number_of_qubits-1\n",
    "        i_reversed=reverse_bits(i,number_of_qubits)\n",
    "        if i<i_reversed\n",
    "            psi[i+1], psi[i_reversed+1] = psi[i_reversed+1], psi[i+1]\n",
    "        end\n",
    "    end\n",
    "end"
   ]
  },
  {
   "cell_type": "code",
   "execution_count": null,
   "metadata": {
    "collapsed": false,
    "hidden": true
   },
   "outputs": [],
   "source": [
    "function quantum_fourier!(psi)\n",
    "    n= trailing_zeros(length(psi))\n",
    "    for i=n-1:-1:0\n",
    "        apply_unitary!(psi, hadamard, i)\n",
    "        for j=i-1:-1:0\n",
    "            r_order=i-j+1;\n",
    "            angle=2*pi/2.^r_order\n",
    "            apply_control_phase!(psi,j,i,angle)\n",
    "        end\n",
    "    end\n",
    "    reverse_bits!(psi)\n",
    "end"
   ]
  },
  {
   "cell_type": "markdown",
   "metadata": {
    "hidden": true
   },
   "source": [
    "Podemos construir las matrices que corresponden a las transformaciones lineales QFT y IFFT. Al compararlas, vemos que son la misma (módulo un factor de normalización). De hecho, podemos ver que su estructura es simplemente\n",
    "\\begin{equation}\n",
    "\\begin{pmatrix}\n",
    "1 & 1 & 1 & 1 & 1 & 1 & 1 & 1 \\\\\n",
    "1 & \\omega^1 & \\omega^2 & \\omega^3 & \\omega^4 & \\omega^5 & \\omega^6 & \\omega^7 \\\\\n",
    "1 & \\omega^2 & \\omega^4 & \\omega^6 & 1 & \\omega^2 & \\omega^4 & \\omega^6 \\\\\n",
    "1 & \\omega^3 & \\omega^6 & \\omega^1 & \\omega^4 & \\omega^7 & \\omega^2 & \\omega^5 \\\\\n",
    "1 & \\omega^4 & 1 & \\omega^4 & 1 & \\omega^4 & 1 & \\omega^4 \\\\\n",
    "1 & \\omega^5 & \\omega^2 & \\omega^7 & \\omega^4 & \\omega^1 & \\omega^6 & \\omega^3 \\\\\n",
    "1 & \\omega^6 & \\omega^4 & \\omega^2 & 1 & \\omega^6 & \\omega^4 & \\omega^2 \\\\\n",
    "1 & \\omega^7 & \\omega^6 & \\omega^5 & \\omega^4 & \\omega^3 & \\omega^2 & \\omega^1\n",
    "\\end{pmatrix}\n",
    "=\n",
    "\\begin{pmatrix}\n",
    "1 & 1 & 1 & 1 & 1 & 1 & 1 & 1 \\\\\n",
    "1 & \\omega^1 & \\omega^2    & \\omega^3    & \\omega^4    & \\omega^5    & \\omega^6    & \\omega^7 \\\\\n",
    "1 & \\omega^2 & \\omega^4    & \\omega^6    & \\omega^8    & \\omega^{10} & \\omega^{12} & \\omega^{14} \\\\\n",
    "1 & \\omega^3 & \\omega^6    & \\omega^9    & \\omega^{12} & \\omega^{15} & \\omega^{18} & \\omega^{21} \\\\\n",
    "1 & \\omega^4 & \\omega^8    & \\omega^{12} & \\omega^{16} & \\omega^{20} & \\omega^{24} & \\omega^{28} \\\\\n",
    "1 & \\omega^5 & \\omega^{10} & \\omega^{15} & \\omega^{20} & \\omega^{25} & \\omega^{30} & \\omega^{35} \\\\\n",
    "1 & \\omega^6 & \\omega^{12} & \\omega^{18} & \\omega^{24} & \\omega^{30} & \\omega^{36} & \\omega^{42} \\\\\n",
    "1 & \\omega^7 & \\omega^{14} & \\omega^{21} & \\omega^{28} & \\omega^{35} & \\omega^{42} & \\omega^{49}\n",
    "\\end{pmatrix}\n",
    "=\\omega^{ij}\n",
    "\\end{equation}\n",
    "con \n",
    "\\begin{equation}\n",
    "\\omega= \\text{e}^\\frac{2\\pi \\text{i}}{8}\n",
    "\\end{equation}\n"
   ]
  },
  {
   "cell_type": "code",
   "execution_count": null,
   "metadata": {
    "collapsed": false,
    "hidden": true
   },
   "outputs": [],
   "source": [
    "n=5;\n",
    "dim=2^n\n",
    "ui=zeros(Complex{Float64},dim,dim)\n",
    "uq=zeros(Complex{Float64},dim,dim)\n",
    "for i=0:(dim-1)\n",
    "    ui[:,i+1]=ifft(base_state(i,dim))*2^(n/2)\n",
    "    psi=base_state(i,dim);\n",
    "    quantum_fourier!(psi)\n",
    "    uq[:,i+1]=psi\n",
    "end\n",
    "\n",
    "w=exp(2*π*im/dim)\n",
    "Ap = Complex{Float64}[ w^(i*j) for i=0:dim-1, j=0:dim-1]/sqrt(dim);\n",
    "@show [ norm(chopnumber(uq-ui)) norm(uq-Ap)];"
   ]
  },
  {
   "cell_type": "markdown",
   "metadata": {
    "hidden": true
   },
   "source": [
    "[De la wikipedia]\n",
    "\n",
    "In quantum computing, the quantum Fourier transform is a linear transformation on quantum bits, and is the quantum analogue of the discrete Fourier transform. The quantum Fourier transform is a part of many quantum algorithms, notably Shor's algorithm for factoring and computing the discrete logarithm, the quantum phase estimation algorithm for estimating the eigenvalues of a unitary operator, and algorithms for the hidden subgroup problem.\n",
    "\n",
    "The quantum Fourier transform can be performed efficiently on a quantum computer, with a particular decomposition into a product of simpler unitary matrices. Using a simple decomposition, the discrete Fourier transform on $2^{n}$￼ amplitudes can be implemented as a quantum circuit consisting of only $O(n^{2})$￼ Hadamard gates and controlled phase shift gates, where $n$￼ is the number of qubits. This can be compared with the classical discrete Fourier transform, which takes $O(n2^{n})$￼ gates (where $n$￼ is the number of bits), which is exponentially more than $O(n^{2})$￼. However, the quantum Fourier transform acts on a quantum state, whereas the classical Fourier transform acts on a vector, so not every task that uses the classical Fourier transform can take advantage of this exponential speedup.\n",
    "\n",
    "The best quantum Fourier transform algorithms known today require only $O(n\\log n)$￼ gates to achieve an efficient approximation\n"
   ]
  },
  {
   "cell_type": "markdown",
   "metadata": {},
   "source": [
    "# Cadena de Ising y teoria de matrices aleatorias"
   ]
  },
  {
   "cell_type": "markdown",
   "metadata": {
    "heading_collapsed": true
   },
   "source": [
    "## Archivos base"
   ]
  },
  {
   "cell_type": "code",
   "execution_count": null,
   "metadata": {
    "collapsed": false,
    "hidden": true,
    "init_cell": true,
    "scrolled": false
   },
   "outputs": [],
   "source": [
    "push!(LOAD_PATH, \".\");\n",
    "using quantum\n",
    "using PyPlot"
   ]
  },
  {
   "cell_type": "code",
   "execution_count": null,
   "metadata": {
    "collapsed": false,
    "hidden": true
   },
   "outputs": [],
   "source": [
    "@which base_state"
   ]
  },
  {
   "cell_type": "code",
   "execution_count": null,
   "metadata": {
    "collapsed": false,
    "hidden": true
   },
   "outputs": [],
   "source": [
    "@which base_state(1,3)"
   ]
  },
  {
   "cell_type": "code",
   "execution_count": null,
   "metadata": {
    "collapsed": false,
    "hidden": true
   },
   "outputs": [],
   "source": [
    "#@edit base_state(1,3)"
   ]
  },
  {
   "cell_type": "markdown",
   "metadata": {
    "heading_collapsed": true
   },
   "source": [
    "## Los ensambles a estudiar y la distribución de primeros vecinos"
   ]
  },
  {
   "cell_type": "markdown",
   "metadata": {
    "hidden": true
   },
   "source": [
    "### El PUE o ensamble poissoniano"
   ]
  },
  {
   "cell_type": "markdown",
   "metadata": {
    "hidden": true
   },
   "source": [
    "Estudiaremos primero una secuencia de números aleatoria y veremos una de sus propiedades mas simples."
   ]
  },
  {
   "cell_type": "code",
   "execution_count": null,
   "metadata": {
    "collapsed": false,
    "hidden": true
   },
   "outputs": [],
   "source": [
    "n=100;\n",
    "random_spectrum=sort(2*pi*rand(n));"
   ]
  },
  {
   "cell_type": "code",
   "execution_count": null,
   "metadata": {
    "collapsed": false,
    "hidden": true
   },
   "outputs": [],
   "source": [
    "fig = figure()\n",
    "w, h = plt[:figaspect](0.1)\n",
    "figure(figsize=(w,h))\n",
    "PyPlot.xlim(0,2*pi);\n",
    "#figure(axis=\"on\"\")\n",
    "for energy in random_spectrum\n",
    "    plot([energy, energy], [0, 1], color=\"red\");\n",
    "end\n",
    "#axis(\"off\")\n",
    "tick_params(labelbottom=\"off\",labelleft=\"off\")"
   ]
  },
  {
   "cell_type": "markdown",
   "metadata": {
    "hidden": true
   },
   "source": [
    "### La distribución de primeros vecinos para el PUE"
   ]
  },
  {
   "cell_type": "markdown",
   "metadata": {
    "hidden": true
   },
   "source": [
    "Ahora consideraremos la distribución de espaciamientos a primeros vecinos, normalizada a un promedio de 1."
   ]
  },
  {
   "cell_type": "markdown",
   "metadata": {
    "hidden": true
   },
   "source": [
    "`sort` sirve para ordenar  \n",
    "`circshift` hace un shift circular al arreglo  \n",
    "`mean` sirve para sacar promedios"
   ]
  },
  {
   "cell_type": "code",
   "execution_count": null,
   "metadata": {
    "collapsed": false,
    "hidden": true
   },
   "outputs": [],
   "source": [
    "function get_nearest_neighbour(spectrum)\n",
    "    a=sort(spectrum)\n",
    "    a=a-circshift(a,1)\n",
    "    a[1]=a[1]+2*pi\n",
    "    a/mean(a)\n",
    "end"
   ]
  },
  {
   "cell_type": "code",
   "execution_count": null,
   "metadata": {
    "collapsed": false,
    "hidden": true
   },
   "outputs": [],
   "source": [
    "function P_Poisson(x)\n",
    "    return exp(-x)\n",
    "end"
   ]
  },
  {
   "cell_type": "code",
   "execution_count": null,
   "metadata": {
    "collapsed": false,
    "hidden": true
   },
   "outputs": [],
   "source": [
    "x=linspace(0,6,700);\n",
    "y=P_Poisson(x);\n",
    "PyPlot.xlim(0,6)\n",
    "PyPlot.plot(x,y);\n",
    "n=4000;\n",
    "plt[:hist](get_nearest_neighbour(2*pi*rand(n)),50,normed=\"True\");\n",
    "plt[:show](figure)"
   ]
  },
  {
   "cell_type": "markdown",
   "metadata": {
    "hidden": true
   },
   "source": [
    "### El ensamble CUE"
   ]
  },
  {
   "cell_type": "markdown",
   "metadata": {
    "hidden": true
   },
   "source": [
    "Consideremos una matriz $H$ hermítica con entradas distribuidas de manera gaussiana (sobre la diagonal el ancho es un factor $\\sqrt{2}$ mayor). Por los mismo argumentos que expusimos para estados aleatorios, esta matriz no tiene una dirección preferencial, ya que al hacerle una transformación unitaria, $U H U^\\dagger$, los elementos tienen la misma distrubución anterior. \n",
    "\n",
    "La forma de construir dicha matriz es tomando una matriz con entradas complejas gaussianas identicamente distribuidas, y sumándole su transpuesta conjugada:\n",
    "\\begin{equation}\n",
    "H = A+A^\\dagger.\n",
    "\\end{equation}\n",
    "Vamos a decir, sin mayor explicación, que las matrices así generadas pertecen al GUE o _Gaussian Unitary Ensemble_. Vamos a programarlas usando funciones anónimas."
   ]
  },
  {
   "cell_type": "code",
   "execution_count": null,
   "metadata": {
    "collapsed": false,
    "hidden": true
   },
   "outputs": [],
   "source": [
    "function gaussian_unitary_ensemble(dim)\n",
    "    (x -> x+x')(randn(dim,dim)+im*randn(dim,dim))\n",
    "end"
   ]
  },
  {
   "cell_type": "markdown",
   "metadata": {
    "hidden": true
   },
   "source": [
    "Dado que no tienen una dirección preferencial, sus eigenvectores forman una base ortonormal aleatoria, con respecto a la medida de Haar. Bastaría hacer una diagonalización para tener una base totalmente aleatoria. Sin embargo, dada la arbitrariedad en la fase, Julia hace que el último elemento del vector sea real. Esto hay que solucionarlo artificialmente, multiplicando cada vector por una fase aleatoria entre $0$ y $2\\pi$. "
   ]
  },
  {
   "cell_type": "code",
   "execution_count": null,
   "metadata": {
    "collapsed": false,
    "hidden": true
   },
   "outputs": [],
   "source": [
    "dim=3;\n",
    "a=eigvecs(gaussian_unitary_ensemble(dim))"
   ]
  },
  {
   "cell_type": "markdown",
   "metadata": {
    "hidden": true
   },
   "source": [
    "Esto hay que solucionarlo artificialmente, multiplicando cada vector por una fase aleatoria entre $0$ y $2\\pi$. Esto lo vamos a hacer multiplicando no vectorialmente, sino elemento a elemento usando \n",
    "```\n",
    ".*\n",
    "```"
   ]
  },
  {
   "cell_type": "code",
   "execution_count": null,
   "metadata": {
    "collapsed": false,
    "hidden": true
   },
   "outputs": [],
   "source": [
    "a.*exp(2*pi*im*rand(dim))'"
   ]
  },
  {
   "cell_type": "markdown",
   "metadata": {
    "hidden": true
   },
   "source": [
    "Así, formamos finalmente la función `circular_unitary_ensemble`"
   ]
  },
  {
   "cell_type": "code",
   "execution_count": null,
   "metadata": {
    "collapsed": false,
    "hidden": true
   },
   "outputs": [],
   "source": [
    "function circular_unitary_ensemble(dim::Int)\n",
    "    eigvecs(gaussian_unitary_ensemble(dim)).*exp(2*pi*im*rand(dim))'\n",
    "end"
   ]
  },
  {
   "cell_type": "markdown",
   "metadata": {
    "hidden": true
   },
   "source": [
    "Revisemos que la norma de las eigenfases es 1. La función `norm` no es vectorizable en forma trivial, por lo que nos toca usar la función \n",
    "```\n",
    "map\n",
    "```\n",
    "que es extremadamente conveniente para escribir cosas en forma compacta y sin usar loops."
   ]
  },
  {
   "cell_type": "code",
   "execution_count": null,
   "metadata": {
    "collapsed": false,
    "hidden": true
   },
   "outputs": [],
   "source": [
    "dim=6;\n",
    "norm(eigvals(circular_unitary_ensemble(dim)))"
   ]
  },
  {
   "cell_type": "code",
   "execution_count": null,
   "metadata": {
    "collapsed": false,
    "hidden": true
   },
   "outputs": [],
   "source": [
    "map(x->norm(x),eigvals(circular_unitary_ensemble(dim)))"
   ]
  },
  {
   "cell_type": "markdown",
   "metadata": {
    "hidden": true
   },
   "source": [
    "La distribución de primeros vecinos, no coincide con un espectro aleatorio!"
   ]
  },
  {
   "cell_type": "code",
   "execution_count": null,
   "metadata": {
    "collapsed": false,
    "hidden": true
   },
   "outputs": [],
   "source": [
    "dim=400;\n",
    "max_x=4;\n",
    "s=get_nearest_neighbour(angle(eigvals(circular_unitary_ensemble(dim))))\n",
    "x=linspace(0,max_x,700);\n",
    "y=P_Poisson(x);\n",
    "PyPlot.xlim(0,max_x)\n",
    "PyPlot.plot(x,y);\n",
    "plt[:hist](s,20,normed=\"True\");\n",
    "plt[:show](figure)\n"
   ]
  },
  {
   "cell_type": "markdown",
   "metadata": {
    "hidden": true
   },
   "source": [
    "Dado que diagonalizar matrices es relativamente dificil conforme crece la dimensión del sistema, vamos a usar ensambles, considerando no un ensemble de espectros, sino un ensemble de distribuciones de primeros vecinos. Entonces, usamos el _Wigner surmize_ del GUE. "
   ]
  },
  {
   "cell_type": "code",
   "execution_count": null,
   "metadata": {
    "collapsed": false,
    "hidden": true
   },
   "outputs": [],
   "source": [
    "dim=100;\n",
    "EnsembleSize=1000;\n",
    "data=zeros(EnsembleSize*dim)\n",
    "for i=1:EnsembleSize\n",
    "    data[((i-1)*dim+1):i*dim]=get_nearest_neighbour(angle(eigvals(circular_unitary_ensemble(dim))))\n",
    "end"
   ]
  },
  {
   "cell_type": "code",
   "execution_count": null,
   "metadata": {
    "collapsed": false,
    "hidden": true
   },
   "outputs": [],
   "source": [
    "function Wigner_surmise_GUE(x)\n",
    "    return (x.^2*32/pi^2).*exp(-x.^2*4/pi)\n",
    "end"
   ]
  },
  {
   "cell_type": "code",
   "execution_count": null,
   "metadata": {
    "collapsed": false,
    "hidden": true
   },
   "outputs": [],
   "source": [
    "max_x=3.5\n",
    "x=linspace(0,max_x,700);\n",
    "y=Wigner_surmise_GUE(x);\n",
    "PyPlot.xlim(0,max_x)\n",
    "PyPlot.plot(x,y);\n",
    "plt[:hist](data,50,normed=\"True\");\n",
    "plt[:show](figure)\n"
   ]
  },
  {
   "cell_type": "markdown",
   "metadata": {
    "heading_collapsed": true
   },
   "source": [
    "## Caos Cuántico y Teoria de Matrices Aleatorias"
   ]
  },
  {
   "cell_type": "markdown",
   "metadata": {
    "hidden": true
   },
   "source": [
    "La _teoría de matrices aleatorias_ (random matrix theory, o RMT) fue usada en física por primera vez para tratar de caracterizar el espectros de resonancias de los núcleos atómicos pesados por Wigner. El postuló que las propiedades estadísticas de las fluctuaciones de las líneas espectrales siguen el comportamiento de los eigenvalores de un ensamble de matrices aleatorias,  y que este ensamble depende sólo de la clase de simetría de la dinámica subyacente. Más adelante, en el año 1984, Bohigas, Giannoni, y Schmit acuñaron una __conjetura que establece que sistemas clásicos caóticos, al ser cuantizados, muestran una estadística espectral tipo RMT__. RMT comenzó a formar un pilar y una herramienta para el estudio del caos cuántico, a tal grado que hoy en día algunos la usan para _definir_ caos cuántico.\n",
    "\n",
    "_Lo anterior dicho constituye un resultado sorprendente dado que define clases de universalidad que dependen solo del grupo de transformaciones canónicas ante las cuales el sistema es invariante._\n",
    "\n",
    "Tres ensambles son típicamente considerados para matrices hermitianas:\n",
    "\n",
    "* _Gaussian Unitary Ensemble_ __(GUE)__ :Ensamble de matrices invariantes ante transformaciones unitarias. Este puede ser considerado como un ensamble de Hamiltonianos no simétricos bajo inversión temporal.  \n",
    "\n",
    "* _Gaussian Orthogonal Ensemble_ __(GOE)__: Modela Hamiltonianos invariantes ante transformaciones ortogonales y describe sistemas que son ya sea (i) simétricos ante inversión temporal y de espín total semientero, o (ii) sistemas de espín entero que pudieran tener o no simetría ante rotaciones. \n",
    "\n",
    "* _Gaussian Symplectic Ensemble_ __(GSE)__: Ensamble de matrices hermitianas invariante ante transformaciones simplécticas. Este tipo de matrices gobiernan la dinámica de sistemas de espín semientero simétricos bajo inversión temporal y carentes simetría bajo rotaciones.\n",
    "\n",
    "Existen también ensambles equivalentes de matrices unitarias (que pueden representar matrices de dispersión y operadores de Floquet). Estos son llamados ensambles \"circulares\" _Circular Gaussian Ensembles_ que, bajo  consideraciones similares de los ensambles anteriores, se denotan como CUE, COE y CSE. Análogamente para estos últimos ensambles se estudia, por ejemplo, el espaciamiento de las comúnmente llamadas cuasi-energías.  Concretamente, un sistema cuántico caótico con una de las tres simetrias internas antes mencionadas, su distribución de las diferencias en las energias (ó cuasienergias) están bien aproximadas por las siguientes distribuciones:\n",
    "\\begin{equation}\n",
    "P(s)=\\begin{cases} \n",
    "      \\hfill (s \\pi /2)\\exp (-s^2\\pi/4)    \\hfill & \\text{ortogonal} \\\\\n",
    "      \\hfill (s^2 32/\\pi^2) \\exp (-s^2 4/\\pi)    \\hfill & \\text{unitario} \\\\\n",
    "      \\hfill (s^4 2^{18}/3^6 \\pi^3)\\exp (-s^2 64/9 \\pi)    \\hfill & \\text{simpléctico.}\n",
    "  \\end{cases}\n",
    "\\end{equation}\n",
    "Cabe decir que para $s$ pequeña uno puede notar el exponente de\n",
    "_repulsión_ entre los eigenvalores en los distintos ensambles, $P(s)\n",
    "\\sim s^\\beta$, $\\beta=1,2,4$ para el ensamble ortogonal, unitario y simpléctico\n",
    "respectivamente. La repulsion de los niveles cuando el parámetro del sistema que lo lleva desde el régimen integral hasta el caótico, se ve en acción como sigue:\n",
    "\n",
    "![title](Statisticsmath2.png \"Title\")\n",
    "\n",
    "Para sistemas integrables, típicamente la $P(s)$ imita el comportamiento del _Poissonian unitary (orthogonal, symplectic) ensemble_, es decir, matrices que pueden ser escritas como $H=UDU^\\dagger$, donde D es una matriz diagonal con entradas aleatorias bajo la misma distribución y sin correlación alguna. "
   ]
  },
  {
   "cell_type": "markdown",
   "metadata": {
    "heading_collapsed": true
   },
   "source": [
    "## Cadena de espines pateada"
   ]
  },
  {
   "cell_type": "markdown",
   "metadata": {
    "hidden": true
   },
   "source": [
    "### Descripción"
   ]
  },
  {
   "cell_type": "markdown",
   "metadata": {
    "hidden": true
   },
   "source": [
    "* Estudiaremos una cadena de Ising abierta pateada por pulsos de campo magnético. El Hamiltoniano del sistema es el siguiente:\n",
    "$$\n",
    "H=\\sum_{i=0}^{N-2} J_i\\sigma^z_i \\sigma_{i+1}^z \n",
    "  +\\hat  \\delta_{\\tau}(t) \\sum_{i=0}^{N-1} b^{ \\perp }\\sigma_i^x +b^{\\parallel} \\sigma_i^z, \n",
    " \\hspace{8 pt} \n",
    "\\hat \\delta_{\\tau}(t)=\\sum_{n=-\\infty}^{\\infty} \\delta(t-\\tau n),\n",
    "$$\n",
    "\n",
    "__Simetrías:__\n",
    "    \n",
    "La cadena homogénea $J_i = J$ tiene simetría bajo reflexión, es decir, si cambiamos el qubit $i \\to N-1-i$, el Hamiltoniano queda invariante. El operador de simetría asociado $R$, opera en la base computacional como sigue:\n",
    "$$R\\vert\\alpha_0,\\alpha_1,\\dots,\\alpha_{N-2},\\alpha_{N-1}\\rangle=\\vert\\alpha_{N-1},\\alpha_{N-2},\\dots,\\alpha_{1},\\alpha_0\\rangle.$$\n",
    "donde $\\alpha_j\\in\\lbrace 0,1 \\rbrace$, los eigenvalores asociados a este operador son $\\pm 1$. \n",
    "\n",
    "Cabe notar que las simetrías están asociadas a cantidades conservadas y viceversa, en este caso es la paridad y el espacio de Hilbert esta estructurado como sigue:\n",
    "$$\\mathcal{H}=\\mathcal{H}_1\\oplus \\mathcal{H}_{-1}.$$\n",
    "donde $\\mathcal{H}_{\\pm 1}$ son subespacios invariantes asociados a cada valor de la paridad, es decir, si un estado vive inicialmente en $\\mathcal{H}_1$ y se propaga de acuerdo al Hamiltoniano de arriba, el estado del sistema se quedara en ese espacio."
   ]
  },
  {
   "cell_type": "markdown",
   "metadata": {
    "hidden": true
   },
   "source": [
    "__Operador de evolución__ \n",
    "\n",
    "Cuando se tiene un Hamiltoniano con dependencia explícita en el tiempo, el operador de evolución se construye como sigue:\n",
    "\n",
    "\\begin{equation}\n",
    "U(t_2,t_1)=\\mathcal{T} \\exp{\\left(-i\\int_{t_1}^{t_2} H(t) dt\\right)},\n",
    "\\end{equation}\n",
    "\n",
    "donde $\\mathcal{T}$ es el operador de ordenamiento temporal. Sin embargo, dado\n",
    "que el Hamiltoniano es periódico en el tiempo [$H(t+\\tau)=H(t)$] y la\n",
    "dependencia temporal viene en términos de deltas de Dirac, uno puede\n",
    "simplificar bastante la expresión anterior y lidiar con un mapeo estroboscópico\n",
    "cuántico que se calcula de la siguiente manera. Entre cada patada, el sistema\n",
    "se comporta como uno autónomo y el operador de evolución viene dado solo por la\n",
    "parte de Ising. Justo después de una patada y durante un tiempo menor al\n",
    "periodo del sistema, el operador de evolución viene dado por (digamos justo\n",
    "después de la\n",
    "patada $n$):\n",
    "$$U_I(t)=\\exp \\left( -i t H_I \\right), \\hspace{8 pt} n \\tau<t<(n+1)\\tau$$\n",
    "donde $H_I$ denota solo la parte de Ising del Hamiltoniano total de la cadena.\n",
    "Ahora, en un intervalo de tiempo pequeño alrededor de cuando la patada $m=n+1$\n",
    "ocurre, la parte del campo magnético del Hamiltoniano es mucho más fuerte que\n",
    "la parte de Ising y el operador de evolución en la vecindad de la patada esta\n",
    "dado por:\n",
    "\\begin{align*}\n",
    "U_K = \\lim_{\\epsilon \\to 0^+} U(m \\tau-\\epsilon, m \\tau + \\epsilon) \n",
    "       &= \\lim_{\\epsilon \\to 0^+} \\mathcal{T}\n",
    "           \\exp \\left( -i H_K\\int_{m \\tau -\\epsilon}^{m \\tau +\\epsilon} \n",
    "\t              \\delta_\\tau(t) dt \\right)\\\\\n",
    "       &= \\exp \\left( -i H_K \\right),\n",
    "\\end{align*}\n",
    "donde $H_K=\\sum_{i=0}^{N-1} b^{ \\perp }\\sigma_i^x +b^{\\parallel} \\sigma_i^z$.\n",
    "Por lo tanto el operador de evolución que mapea estados a justo después de la\n",
    "patada $n$ está dado por:\n",
    "\\begin{equation}\n",
    "U_{KI}(n \\tau) = \\left[U_K U_I(\\tau)\\right]^n,\n",
    "\\end{equation}\n",
    "donde $U_{I}=\\exp\\left( -i \\sum_{i=0}^{N-1} J_i \\sigma^z_i \\sigma_{i+1}^z\\right)$ y $U_\\text{K}=\\exp \\left(-i \\sum_{i=0}^{N-1} b^{ \\perp }\\sigma_i^x +b^{\\parallel} \\sigma_i^z \\right)$. Entonces:\n",
    "$$\\vert \\psi(\\tau (n+1))\\rangle=U_{\\text{KI}}(\\tau)\\vert \\psi(\\tau n)\\rangle.$$\n",
    "\n",
    "Por último la cadena es simétrica bajo inversión temporal. En la base computacional, el operador de inversión temporal, $K'$ es simplemente conjugación compleja, tenemos entonces, $K'\\sigma_{x,z} K'^{-1}=\\sigma_{x,y}$ y\n",
    "$K' \\sigma_y K'^{-1}=-\\sigma_y$. Usando la versión simetrizada del operador de Floquet, $U'_{KI}=\\exp(-iH_I/2)U_{KI}\\exp(iH_I/2)$, es fácil comprobar que\n",
    "\\begin{equation}\n",
    "K'U'_{KI}K'^{-1}=U'^{\\dagger}_{KI},.\n",
    "\\end{equation}\n",
    "es decir, el operador de evolución se comporta \"bien\" bajo inversion temporal, puesto que el complejo transpuesto de $U'$ es el que propaga estados en reversa. Se dice que $U'$ es covariante bajo la operación de inversión temporal.\n",
    "Por lo tanto para el régimen caótico en la cadena tenemos una\n",
    "correspondencia de la $P(s)$ con el resultado del ensamble COE."
   ]
  },
  {
   "cell_type": "markdown",
   "metadata": {
    "hidden": true
   },
   "source": [
    "__Regimenes__\n",
    "\n",
    "* Integrable: $b^{\\parallel} = 0$ o $b^{\\perp} = 0$ \n",
    "\n",
    "* Caótica: $b^{\\parallel} \\approx b^{\\perp}$ y no demasiado pequeñas\n",
    "\n",
    "Para estudiar el espectro de la cadena uno lo tiene que hacer en cada sector de simetría, sin embargo, en lo que sigue estudiaremos la cadena homogénea con un defecto, éste remueve explícitamente la simetría de reflexión, quedando solo la simetría antiunitaria. De hecho la simetría antiunitaria la vamos a remover añadiendo una patada en otra dirección. "
   ]
  },
  {
   "cell_type": "markdown",
   "metadata": {
    "hidden": true
   },
   "source": [
    "__Cadena con un defecto__\n",
    "\n",
    "Para esto fijaremos $J_i=J_{\\text{hom}}$ para $i=0, \\dots, j-1,j+1, \\dots N-2$ y el defecto será modelado con un acoplamiento de Ising diferente $J_j=J_{\\text{inhom}}$."
   ]
  },
  {
   "cell_type": "markdown",
   "metadata": {
    "hidden": true
   },
   "source": [
    "### Propagador de la cadena"
   ]
  },
  {
   "cell_type": "code",
   "execution_count": null,
   "metadata": {
    "collapsed": false,
    "hidden": true
   },
   "outputs": [],
   "source": [
    "\"\"\"\n",
    "Se construye la parte de Ising de una cadena abierta homogenea\n",
    "\"\"\"\n",
    "function apply_open_chain!(psi,J)\n",
    "    qubits=trailing_zeros(length(psi))\n",
    "    for i in 0:(qubits-2) \n",
    "        apply_ising!(psi,J,i,i+1)\n",
    "    end\n",
    "end\n",
    "\"\"\"\n",
    "Se construye la parte de Ising inhomogenea\n",
    "\"\"\"\n",
    "function apply_open_inhomogeneous_chain!(psi,J_hom,J_inhom)\n",
    "    qubits=trailing_zeros(length(psi))\n",
    "    apply_open_chain!(psi,J_hom)\n",
    "    apply_ising!(psi,J_inhom-J_hom,Int(round(qubits/2)-1),Int(round(qubits/2)))\n",
    "end\n",
    "\"\"\"\n",
    "Se construye la parte del campo de una cadena de espines\n",
    "\"\"\"\n",
    "function apply_magnetic_kick!(psi,b)\n",
    "    qubits=trailing_zeros(length(psi))\n",
    "    for i in 0:(qubits-1) \n",
    "        apply_kick!(psi,b,i)\n",
    "    end\n",
    "end;"
   ]
  },
  {
   "cell_type": "markdown",
   "metadata": {
    "hidden": true
   },
   "source": [
    "### Operador de Floquet"
   ]
  },
  {
   "cell_type": "code",
   "execution_count": null,
   "metadata": {
    "code_folding": [],
    "collapsed": false,
    "hidden": true
   },
   "outputs": [],
   "source": [
    "\"\"\"\n",
    "floquet_open_chain(J,bx,bz,qubits::Int) Operador de Floquet de una cadena abierta y homogenea\n",
    "\"\"\"\n",
    "function floquet_open_chain(J,b,qubits::Int)\n",
    "    dim=Int(2^qubits)\n",
    "    u=zeros(Complex{Float64},dim,dim)\n",
    "    for i in range(0,dim)\n",
    "        psi=copy(base_state(i,dim))\n",
    "        apply_open_chain!(psi,J)\n",
    "        apply_magnetic_kick!(psi,b)\n",
    "        u[:,i+1]=psi\n",
    "    end\n",
    "    return u\n",
    "end\n",
    "\n",
    "\"\"\"\n",
    "floquet_open_inhomogeneous_chain(J_hom,J_inhom,bx,bz,qubits::Int) Operador de Floquet de una cadena abierta \n",
    "e inhomogenea\n",
    "\"\"\"\n",
    "function floquet_open_inhomogeneous_chain(J_hom,J_inhom,b,qubits::Int)\n",
    "    dim=Int(2^qubits)\n",
    "    u=zeros(Complex{Float64},dim,dim)\n",
    "    for i=0:(dim-1)\n",
    "        #@show i\n",
    "        psi=copy(base_state(i,dim))\n",
    "        #@show \"hola 1\", i\n",
    "        apply_open_inhomogeneous_chain!(psi,J_hom,J_inhom)\n",
    "        #@show \"hola 2\", i\n",
    "\n",
    "        apply_magnetic_kick!(psi,b)\n",
    "        u[:,i+1]=psi\n",
    "    end\n",
    "    return u \n",
    "end\n",
    "\n",
    "function floquet_chain(J_hom,J_inhom,J_hom_2,J_inhom_2,b,b2,qubits::Int)\n",
    "    dim=Int(2^qubits)\n",
    "    u=zeros(Complex{Float64},dim,dim)\n",
    "    for i in range(0,dim)\n",
    "        psi=copy(base_state(i,dim))\n",
    "        apply_magnetic_kick!(psi,b)\n",
    "        apply_open_inhomogeneous_chain!(psi,J_hom,J_inhom)\n",
    "        apply_magnetic_kick!(psi,b2)\n",
    "        apply_open_inhomogeneous_chain!(psi,J_hom_2,J_inhom_2)\n",
    "        u[:,i+1]=psi\n",
    "    end\n",
    "    return u \n",
    "end;\n"
   ]
  },
  {
   "cell_type": "markdown",
   "metadata": {
    "heading_collapsed": true,
    "hidden": true
   },
   "source": [
    "### Distribución de las cuasienergias para el régimen caótico de la cadena"
   ]
  },
  {
   "cell_type": "code",
   "execution_count": null,
   "metadata": {
    "collapsed": false,
    "hidden": true
   },
   "outputs": [],
   "source": [
    "U_KI=floquet_open_inhomogeneous_chain(1.0,4.0,[1.4,0.0,1.4],11);"
   ]
  },
  {
   "cell_type": "code",
   "execution_count": null,
   "metadata": {
    "collapsed": false,
    "hidden": true
   },
   "outputs": [],
   "source": [
    "list=angle(eigvals(U_KI));"
   ]
  },
  {
   "cell_type": "code",
   "execution_count": null,
   "metadata": {
    "code_folding": [],
    "collapsed": false,
    "hidden": true
   },
   "outputs": [],
   "source": [
    " # Aqui se ordenan las cuasienergias\n",
    "#list2=unfolding(list2);\n",
    "listdiff=get_nearest_neighbour(list)\n",
    "# Aqui hacemos el promedio de las diferencias igual a 1.\n",
    "listdiff=listdiff/mean(listdiff); "
   ]
  },
  {
   "cell_type": "code",
   "execution_count": null,
   "metadata": {
    "collapsed": false,
    "hidden": true,
    "scrolled": true
   },
   "outputs": [],
   "source": [
    "function Wigner_surmise_GOE(x)\n",
    "    return x.*exp(-x.^2*pi/4)*pi/2\n",
    "end"
   ]
  },
  {
   "cell_type": "code",
   "execution_count": null,
   "metadata": {
    "collapsed": false,
    "hidden": true
   },
   "outputs": [],
   "source": [
    "x=linspace(0,5,1000);\n",
    "y=Wigner_surmise_GOE(x);\n",
    "PyPlot.plot(x,y);\n",
    "plt[:hist](listdiff,25,normed=\"True\");\n",
    "plt[:show](figure)"
   ]
  },
  {
   "cell_type": "markdown",
   "metadata": {
    "heading_collapsed": true,
    "hidden": true
   },
   "source": [
    "### Distribución de las cuasienergias para el régimen integrable de la cadena"
   ]
  },
  {
   "cell_type": "code",
   "execution_count": null,
   "metadata": {
    "collapsed": false,
    "hidden": true
   },
   "outputs": [],
   "source": [
    "U_KI=floquet_open_inhomogeneous_chain(1.0,4.0,[0.15,0.0,1.4],11);"
   ]
  },
  {
   "cell_type": "code",
   "execution_count": null,
   "metadata": {
    "collapsed": false,
    "hidden": true
   },
   "outputs": [],
   "source": [
    "spectrum=angle(eigvals(U_KI));"
   ]
  },
  {
   "cell_type": "code",
   "execution_count": null,
   "metadata": {
    "code_folding": [],
    "collapsed": false,
    "hidden": true
   },
   "outputs": [],
   "source": [
    "listdiff=get_nearest_neighbour(spectrum);"
   ]
  },
  {
   "cell_type": "code",
   "execution_count": null,
   "metadata": {
    "collapsed": false,
    "hidden": true
   },
   "outputs": [],
   "source": [
    "x=linspace(0,5,1000);\n",
    "y=P_Poisson(x);\n",
    "PyPlot.plot(x,y);\n",
    "plt[:hist](listdiff,40,normed=\"True\");\n",
    "plt[:xlim](0,5);\n",
    "plt[:show]()"
   ]
  },
  {
   "cell_type": "markdown",
   "metadata": {
    "hidden": true
   },
   "source": [
    "### Cadena sin simetria \"time reversal\": Régimen caótico"
   ]
  },
  {
   "cell_type": "code",
   "execution_count": null,
   "metadata": {
    "collapsed": false,
    "hidden": true
   },
   "outputs": [],
   "source": [
    "U_KI=floquet_chain(1.0,1.1,1.0,1.1,[1.4,0.0,1.4],[1.0,1.0,0.0],11);"
   ]
  },
  {
   "cell_type": "code",
   "execution_count": null,
   "metadata": {
    "code_folding": [],
    "collapsed": false,
    "hidden": true
   },
   "outputs": [],
   "source": [
    "listdiff=get_nearest_neighbour(angle(eigvals(U_KI)));"
   ]
  },
  {
   "cell_type": "code",
   "execution_count": null,
   "metadata": {
    "collapsed": false,
    "hidden": true
   },
   "outputs": [],
   "source": [
    "x=linspace(0,5,1000);\n",
    "y=Wigner_surmise_GOE(x);\n",
    "y2=Wigner_surmise_GUE(x);\n",
    "y3=exp(-x);\n",
    "plot(x,y2);\n",
    "plot(x,y3);\n",
    "plot(x,y);\n",
    "plt[:hist](listdiff,20,normed=\"True\");"
   ]
  },
  {
   "cell_type": "markdown",
   "metadata": {
    "heading_collapsed": true
   },
   "source": [
    "## Propagador construido explicitamente y test"
   ]
  },
  {
   "cell_type": "markdown",
   "metadata": {
    "hidden": true
   },
   "source": [
    "### terminos ising y de campo"
   ]
  },
  {
   "cell_type": "code",
   "execution_count": null,
   "metadata": {
    "collapsed": false,
    "hidden": true
   },
   "outputs": [],
   "source": [
    "\"\"\"\n",
    "ising_term(qubits::Int,target_1::Int=1,target_2::Int=target_1+1) Construye la compuerta ``\\LaTeX A \\times B``\n",
    "\"\"\"\n",
    "function ising_term(qubits::Int,target_1::Int=1,target_2::Int=target_1+1)\n",
    "    \n",
    "    array=Array{Float64,2}[]\n",
    "    \n",
    "    for i in range(1,qubits)\n",
    "        \n",
    "        if i==target_1\n",
    "            push!(array,sigma_z)\n",
    "            elseif i==target_2\n",
    "            push!(array,sigma_z)\n",
    "        else\n",
    "            push!(array,eye(2)) \n",
    "        end\n",
    "        \n",
    "    end\n",
    "    \n",
    "    return kron(array...)\n",
    "    \n",
    "end\n",
    "\n",
    "function sigma_term(qubits::Int,target::Int,j::Int)\n",
    "    array=Array{Complex{Float64},2}[]\n",
    "    \n",
    "    for i in range(1,qubits)\n",
    "        if i==target\n",
    "            push!(array,sigmas[j])\n",
    "        else\n",
    "            push!(array,eye(2))\n",
    "        end\n",
    "    end\n",
    "    return kron(array...)\n",
    "end"
   ]
  },
  {
   "cell_type": "code",
   "execution_count": null,
   "metadata": {
    "collapsed": false,
    "hidden": true
   },
   "outputs": [],
   "source": [
    "#@less kronsigma_term"
   ]
  },
  {
   "cell_type": "code",
   "execution_count": null,
   "metadata": {
    "collapsed": false,
    "hidden": true
   },
   "outputs": [],
   "source": [
    "#code_typed(sigma_term,(Int,Int,Int))"
   ]
  },
  {
   "cell_type": "code",
   "execution_count": null,
   "metadata": {
    "collapsed": false,
    "hidden": true
   },
   "outputs": [],
   "source": [
    "#less(kron)"
   ]
  },
  {
   "cell_type": "markdown",
   "metadata": {
    "heading_collapsed": true,
    "hidden": true
   },
   "source": [
    "### Hamiltonianos"
   ]
  },
  {
   "cell_type": "code",
   "execution_count": null,
   "metadata": {
    "collapsed": false,
    "hidden": true
   },
   "outputs": [],
   "source": [
    "function ham_ising_open_hom(qubits::Int,J)\n",
    "    \n",
    "    h=zeros(Int(2^qubits),Int(2^qubits))\n",
    "    \n",
    "    for i in range(1,qubits-1)\n",
    "        h=ising_term(qubits,i)+h\n",
    "    end\n",
    "    \n",
    "    return J*h\n",
    "    \n",
    "end\n",
    "\n",
    "function ham_ising_open_inhom(qubits::Int,J_hom,J_inhom)\n",
    "    \n",
    "    h=zeros(Int(2^qubits),Int(2^qubits))\n",
    "    for i in range(1,qubits-1)\n",
    "        h=ising_term(qubits,i)+h\n",
    "    end\n",
    "    h=J_hom*h+ising_term(qubits,Int(round(qubits/2)-1))*(J_inhom-J_hom)\n",
    "    \n",
    "    return h\n",
    "    \n",
    "end"
   ]
  },
  {
   "cell_type": "code",
   "execution_count": null,
   "metadata": {
    "collapsed": false,
    "hidden": true
   },
   "outputs": [],
   "source": [
    "function ham_field_hom(qubits::Int,b_x,b_z)\n",
    "    \n",
    "    h=zeros(Int(2^qubits),Int(2^qubits))\n",
    "    \n",
    "    for i in range(1,qubits)\n",
    "        h=b_x*sigma_term(qubits,i,1)+b_z*sigma_term(qubits,i,3)+h\n",
    "    end\n",
    "    \n",
    "    return h\n",
    "    \n",
    "end"
   ]
  },
  {
   "cell_type": "markdown",
   "metadata": {
    "hidden": true
   },
   "source": [
    "### test"
   ]
  },
  {
   "cell_type": "code",
   "execution_count": null,
   "metadata": {
    "collapsed": false,
    "hidden": true
   },
   "outputs": [],
   "source": [
    "# Se comparan los operadores de floquet de la cadena inhomogenea con acoplamientos Ising aleatorios\n",
    "J_hom=rand(1)[]\n",
    "J_inhom=rand(1)[]\n",
    "H_I=ham_ising_open_inhom(7,J_hom,J_inhom);\n",
    "H_K=ham_field_hom(7,2.0,1.0);"
   ]
  },
  {
   "cell_type": "code",
   "execution_count": null,
   "metadata": {
    "collapsed": false,
    "hidden": true
   },
   "outputs": [],
   "source": [
    "U_I=expm(-1.0im*H_I);"
   ]
  },
  {
   "cell_type": "code",
   "execution_count": null,
   "metadata": {
    "collapsed": false,
    "hidden": true
   },
   "outputs": [],
   "source": [
    "U_K=expm(-1.0im*H_K);"
   ]
  },
  {
   "cell_type": "code",
   "execution_count": null,
   "metadata": {
    "collapsed": false,
    "hidden": true
   },
   "outputs": [],
   "source": [
    "U_KI=U_K*U_I;"
   ]
  },
  {
   "cell_type": "code",
   "execution_count": null,
   "metadata": {
    "collapsed": false,
    "hidden": true
   },
   "outputs": [],
   "source": [
    "norm(U_KI-floquet_open_inhomogeneous_chain(J_hom,J_inhom,[2.0,0.0,1.0],7))"
   ]
  },
  {
   "cell_type": "markdown",
   "metadata": {
    "heading_collapsed": true
   },
   "source": [
    "# Tarea\n",
    "* Elegir un proyecto del temario o proponer uno a mas tardar la siguiente semana."
   ]
  },
  {
   "cell_type": "markdown",
   "metadata": {
    "heading_collapsed": true
   },
   "source": [
    "# Otros posibles sistemas y comentarios para la siguiente iteracion"
   ]
  },
  {
   "cell_type": "markdown",
   "metadata": {
    "hidden": true
   },
   "source": [
    "* Recolectar las rutinas en el modulo quantum, construirlas aca poco a poco, luego, al llamarlas, poner el código en pantalla.\n",
    "* Hacer un pequeño comentario de para que sirve la transformada cuantica de Fourier.\n",
    "* Revisar que el paquete quantum tenga LsqFit como un requisito desde adentro.\n",
    "* Agregar las funciones que tenemos acá e irlas construyendo y luego mostrar el código que tenemos dentro del paquete.\n",
    "* Hacer una función que me permita meterle una función anónima como argumento y que me bote la representación matricial de un operador arbitrario.\n",
    "\n",
    "* Poner la prueba del _Wigner surmise_ para dos niveles.\n",
    "* Incluir explicitamente la prueba de que $H$, si tiene elementos gaussianos, con ancho en la diagonal un poco mas grande, es invariante bajo transformaciones unitarias.\n",
    "* Construir una función anónima que me calcule las eigenenergías de cada "
   ]
  }
 ],
 "metadata": {
  "kernelspec": {
   "display_name": "Julia 0.5.2-pre",
   "language": "julia",
   "name": "julia-0.5"
  },
  "language_info": {
   "file_extension": ".jl",
   "mimetype": "application/julia",
   "name": "julia",
   "version": "0.5.2"
  },
  "latex_envs": {
   "bibliofile": "biblio.bib",
   "cite_by": "apalike",
   "current_citInitial": 1,
   "eqLabelWithNumbers": true,
   "eqNumInitial": 0
  },
  "name": "_merged"
 },
 "nbformat": 4,
 "nbformat_minor": 0
}
