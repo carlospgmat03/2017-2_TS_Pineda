{
 "cells": [
  {
   "cell_type": "markdown",
   "metadata": {
    "heading_collapsed": true
   },
   "source": [
    "# Algunos de los topicos a tratar"
   ]
  },
  {
   "cell_type": "markdown",
   "metadata": {
    "collapsed": true,
    "hidden": true
   },
   "source": [
    "* Representacion como vector de un sistema de n qubits.\n",
    "* 1 qubit operations\n",
    "* 2 qubits operations (en particular, interacción de Ising)"
   ]
  },
  {
   "cell_type": "code",
   "execution_count": 4,
   "metadata": {
    "collapsed": false,
    "hidden": true
   },
   "outputs": [
    {
     "data": {
      "text/plain": [
       "16-element Array{Symbol,1}:\n",
       " :P_Orthogonal  \n",
       " :P_Unitary     \n",
       " :apply_ising!  \n",
       " :apply_kick!   \n",
       " :apply_unitary!\n",
       " :base_state    \n",
       " :projector     \n",
       " :quantum       \n",
       " :random_state  \n",
       " :sigma_x       \n",
       " :sigma_y       \n",
       " :sigma_z       \n",
       " :sigmas        \n",
       " :staircase     \n",
       " :testbit       \n",
       " :unfolding     "
      ]
     },
     "execution_count": 4,
     "metadata": {},
     "output_type": "execute_result"
    }
   ],
   "source": [
    "push!(LOAD_PATH, \".\");\n",
    "using quantum\n",
    "names(quantum)"
   ]
  },
  {
   "cell_type": "code",
   "execution_count": 5,
   "metadata": {
    "collapsed": false,
    "hidden": true
   },
   "outputs": [
    {
     "name": "stderr",
     "output_type": "stream",
     "text": [
      "\u001b[1m\u001b[34mINFO: Updating METADATA...\n",
      "\u001b[0m\u001b[1m\u001b[34mINFO: Computing changes...\n",
      "\u001b[0m\u001b[1m\u001b[34mINFO: No packages to install, update or remove\n",
      "\u001b[0m"
     ]
    }
   ],
   "source": [
    "Pkg.update();\n",
    "Pkg.add(\"LsqFit\");"
   ]
  },
  {
   "cell_type": "code",
   "execution_count": 6,
   "metadata": {
    "collapsed": true,
    "hidden": true
   },
   "outputs": [],
   "source": [
    "psi=random_state(2);\n",
    "θ=2*π*rand();\n",
    "\n",
    "θm=exp(-im*θ);\n",
    "θp=conj(θm);"
   ]
  },
  {
   "cell_type": "markdown",
   "metadata": {
    "hidden": true
   },
   "source": [
    "Comenzaremos recordando como se ve el operador de evolución correspondiente a un campo magnético, de magnitud $\\theta$ y dirección $z$:\n",
    "\\begin{equation}\n",
    "\\text{exp}(-i \\theta \\sigma_z) =\n",
    "\\begin{pmatrix}\n",
    "e^{-i\\theta} & 0\\\\\n",
    "0& e^{i\\theta}\n",
    "\\end{pmatrix}\n",
    "\\end{equation}\n",
    "En la siguiente linea mostramos explícitamente esta relación y de paso mostramos un comando útil: \n",
    "~~~\n",
    "expm\n",
    "~~~\n",
    "que calcula la exponencial de una matriz."
   ]
  },
  {
   "cell_type": "code",
   "execution_count": 7,
   "metadata": {
    "collapsed": false,
    "hidden": true
   },
   "outputs": [
    {
     "name": "stdout",
     "output_type": "stream",
     "text": [
      "norm(expm(-im * θ * sigma_z) - [[θm,0] [0,θp]]) = 1.2412670766236366e-16\n"
     ]
    }
   ],
   "source": [
    "@show norm(expm(-im*θ*sigma_z)-[[θm, 0] [0, θp]]);"
   ]
  },
  {
   "cell_type": "markdown",
   "metadata": {
    "hidden": true
   },
   "source": [
    "Ahora mostramos que aplicar la matriz, es lo mismo que operar por vectores componente a componente. Es decir, la ecuacion trivial\n",
    "\\begin{equation}\n",
    "\\text{exp}(-i\\theta \\sigma_z)\\psi=\n",
    "\\begin{pmatrix}\n",
    "e^{-i\\theta} \\psi_1 \\\\\n",
    "e^{i\\theta} \\psi_0 \\\\\n",
    "\\end{pmatrix}\n",
    "\\end{equation}\n",
    "Podemos ver como afecta componente por componente. "
   ]
  },
  {
   "cell_type": "code",
   "execution_count": 8,
   "metadata": {
    "collapsed": false,
    "hidden": true
   },
   "outputs": [
    {
     "name": "stdout",
     "output_type": "stream",
     "text": [
      "norm(expm(-im * θ * sigma_z) * psi - [psi[1] * θm,psi[2] * θp]) = 1.6653345369377348e-16\n"
     ]
    }
   ],
   "source": [
    "@show norm(expm(-im*θ*sigma_z)*psi-[psi[1]*θm, psi[2]*θp]);"
   ]
  },
  {
   "cell_type": "markdown",
   "metadata": {
    "hidden": true
   },
   "source": [
    "Para definir estados de qubits, que por ende tienen dimensión $2^N$, donde $N$ es el numero de qubits, es útil usar notación binaria:\n",
    "\n",
    "Consideremos el espacio de Hilbert de $n$ qubits. La base computational está formada por secuencias de 0s y 1s. Es claro entonces que la dimensión del espacio de Hilbert es  $2^N$. Para 3 qubits, la base computacional sería\n",
    "\\begin{align}\n",
    "&|000\\rangle\\\\\n",
    "&|001\\rangle\\\\\n",
    "&|010\\rangle\\\\\n",
    "&|011\\rangle\\\\\n",
    "&|100\\rangle\\\\\n",
    "&|101\\rangle\\\\\n",
    "&|110\\rangle\\\\\n",
    "&|111\\rangle.\n",
    "\\end{align}\n",
    "Para codificar esto de manera conveniente, usar notación binaria. Recordemos, por ejemplo que \n",
    "\\begin{equation}\n",
    "(5)_{10} = (101)_2\n",
    "\\end{equation}\n",
    "de tal manera que podemos resumir \n",
    "\\begin{equation}\n",
    "|101\\rangle \\equiv |5\\rangle.\n",
    "\\end{equation}\n",
    "Así, nuestra base computacional será traducida a \n",
    "\\begin{align}\n",
    "|000\\rangle \\to |0\\rangle \\\\\n",
    "|001\\rangle \\to |1\\rangle \\\\\n",
    "|010\\rangle \\to |2\\rangle \\\\\n",
    "|011\\rangle \\to |3\\rangle \\\\\n",
    "|100\\rangle \\to |4\\rangle \\\\\n",
    "|101\\rangle \\to |5\\rangle \\\\\n",
    "|110\\rangle \\to |6\\rangle \\\\\n",
    "|111\\rangle \\to |7\\rangle .\n",
    "\\end{align}\n",
    "\n",
    "Luego, por simplicidad, utilizando la base computacional como nuestra base \"canonica\", la sustitución es simple:\n",
    "$|000\\rangle \\to \\left( \\begin{array}{c} 1 \\\\ \\vdots \\\\ 0 \\end{array} \\right)$, $|001\\rangle \\to \\left( \\begin{array}{c} 0 \\\\ 1 \\\\ \\vdots \\end{array} \\right)$, etc.\n",
    "\n",
    "Es decir, la componente que lleva el \"1\" es precisamente la representacion decimal del estado (comenzando a contar desde cero porsupuesto). Sin embargo en julia los vectores se indexan comenzando de 1, por lo que no tenemos la indexacion tan facil. Sumando uno a los indices solucionamos el problema. \n"
   ]
  },
  {
   "cell_type": "markdown",
   "metadata": {},
   "source": [
    "# Operaciones de un qubit"
   ]
  },
  {
   "cell_type": "markdown",
   "metadata": {},
   "source": [
    "Al realizar operaciones de un qubit, no estamos mezclando elementos de cualquier tipo. Noten que si hacemos una operacion sobre un solo qubit, mezclamos solo algunos elementos entre si. \n",
    "\n",
    "Numeremos los qubits de derecha a izquierda, como numeramos los dígitos en notación decimal. Es decir, en \n",
    "\\begin{equation}\n",
    "97834\n",
    "\\end{equation}\n",
    "el digito 0 es el 4, el digito 1 es el 3, el digito 2 es el 8, etc. Esto ademas resulta conveniente pues podemos escribir\n",
    "\\begin{equation}\n",
    "97834=4 \\times 10^0 + \n",
    "3\\times 10^1 +\n",
    "8\\times 10^2 +\n",
    "7\\times 10^3 +\n",
    "9\\times 10^4.\n",
    "\\end{equation}\n",
    "De la misma manera, \n",
    "\\begin{equation}\n",
    "(5)_{10}=(101)_2 \n",
    "=  1\\times 2^0+ 0\\times 2^1+ 1\\times 2^2\n",
    "\\end{equation}\n"
   ]
  },
  {
   "cell_type": "markdown",
   "metadata": {},
   "source": [
    "Ahora veamos que si hacemos una operación sobre el qubit 1, vamos a mezclar los estados por pares. Por ejemplo, al aplicar la operación de un solo qubit $u$ sobre el qubit 2, tendremos \n",
    "\\begin{equation}\n",
    "u_2 |i_3 i_2 i_1 i_0 \\rangle =\n",
    "1_3 \\otimes u_2 \n",
    "\\otimes 1_1 \n",
    "\\otimes 1_0\n",
    "|i_3 i_2 i_1 i_0 \\rangle =\n",
    "|i_3 \\rangle \\otimes  \n",
    "(u |i_2 \\rangle) \\otimes  \n",
    "|i_1 \\rangle \\otimes  \n",
    "|i_0 \\rangle =\n",
    "\\alpha |i_3 i_2 i_1 i_0 \\rangle +\n",
    "\\beta |i_3 \\bar i_2 i_1 i_0 \\rangle.\n",
    "\\end{equation}\n",
    "Es decir estamos mezclando solo dos estados. Por ejemplo, cualquier operación de un solo qubit, sobre el qubit 1 va a mezclar \n",
    "\\begin{equation}\n",
    "|101\\rangle \n",
    "\\end{equation}\n",
    "con\n",
    "\\begin{equation}\n",
    "|111\\rangle .\n",
    "\\end{equation}\n",
    "\n",
    "\n"
   ]
  },
  {
   "cell_type": "markdown",
   "metadata": {},
   "source": [
    "Para refrescar la memoria y tener presente (i) la forma en que representamos NOSOTROS y (2) la COMPU los numeros enteros, usamos las funciones \n",
    "~~~\n",
    "bits\n",
    "~~~\n",
    "que nos da la representación binaria de los objetos, y \n",
    "~~~\n",
    "bin\n",
    "~~~\n",
    "que nos da la forma en que un entero es representado en base 2. "
   ]
  },
  {
   "cell_type": "code",
   "execution_count": null,
   "metadata": {
    "collapsed": false
   },
   "outputs": [],
   "source": [
    "n=4;\n",
    "for i = 0:2^n-1\n",
    "    @show bits(i),bin(i,n),i\n",
    "end"
   ]
  },
  {
   "cell_type": "markdown",
   "metadata": {},
   "source": [
    "Vamos a construir la rutina para aplicar una operación de un qubit a un estado codificado como se explicó arriba. Consideraremos un estado de $n$ qubits. Este estado tendrá una longitud de $2^n$. Para extraer el número de qubits y evitar meterlo explicitamente en la rutina (redundancia en programación es una muy mala práctica) usamos la función "
   ]
  },
  {
   "cell_type": "code",
   "execution_count": null,
   "metadata": {
    "collapsed": false
   },
   "outputs": [],
   "source": [
    "?trailing_zeros"
   ]
  },
  {
   "cell_type": "markdown",
   "metadata": {},
   "source": [
    "Esta función me dá el numero de zeros a la derecha del ultimo 1:"
   ]
  },
  {
   "cell_type": "code",
   "execution_count": null,
   "metadata": {
    "collapsed": false
   },
   "outputs": [],
   "source": [
    "n=3;\n",
    "for i = 0:2^n-1\n",
    "    @show bin(i,n),trailing_zeros(i)\n",
    "end"
   ]
  },
  {
   "cell_type": "markdown",
   "metadata": {},
   "source": [
    "Si el número es una potencia de 2, nos da el valor del logaritmo en base 2, de la misma manera que contar el numero de ceros en el numero 1000 nos dice que el logaritmo, en base 10, de 1000 es 3. "
   ]
  },
  {
   "cell_type": "markdown",
   "metadata": {},
   "source": [
    "El siguiente paso es ver que tendremos unos qubits a la izquierda del qubit afectado y otros a la derecha. En el caso de 5 qubits, supongamos que vamos a operar sobre el qubit 2 (el de la mitad). \n",
    "\n",
    "Mejor les explico en vivo y en directo. "
   ]
  },
  {
   "cell_type": "code",
   "execution_count": null,
   "metadata": {
    "collapsed": false
   },
   "outputs": [],
   "source": [
    "\"\"\"\n",
    "    apply_unitary!(psi, u, target_qubit)\n",
    "\n",
    "This function applies efficiently an arbitrary unitary \"u\" to the target qubit, and modifies the state psi. \n",
    "\n",
    "\"\"\"\n",
    "function apply_unitary!(psi, u, target_qubit)\n",
    "    number_of_qubits = trailing_zeros(length(psi))\n",
    "    end_outer_counter = 2^(number_of_qubits-target_qubit-1)-1\n",
    "    for counter_left_bits = 0:end_outer_counter\n",
    "        number_left=counter_left_bits<< (target_qubit+1)\n",
    "        end_right_counter = number_left + (1<<target_qubit)-1\n",
    "        for counter_right_bits = number_left:end_right_counter\n",
    "            counter_right_bits_1 = counter_right_bits + (1<<target_qubit)\n",
    "            psi[counter_right_bits+1], psi[counter_right_bits_1+1]=u*[psi[counter_right_bits+1], psi[counter_right_bits_1+1]]\n",
    "        end\n",
    "    end\n",
    "end\n",
    "\n"
   ]
  },
  {
   "cell_type": "code",
   "execution_count": null,
   "metadata": {
    "collapsed": false
   },
   "outputs": [],
   "source": [
    "n=12;\n",
    "error=0.\n",
    "u=expm(im*(x->x+x')(randn(2,2)+im*randn(2,2)))\n",
    "\n",
    "for target_qubit=0:n-1\n",
    "    psi=random_state(2^n);\n",
    "    psi_out_2=psi;\n",
    "    psi_out_1=kron(eye(2^(n-target_qubit-1)),u,eye(2^target_qubit))*psi\n",
    "    apply_unitary!(psi_out_2, u, target_qubit)\n",
    "    error+=norm(psi_out_1-psi_out_2)\n",
    "end\n",
    "@show error;"
   ]
  },
  {
   "cell_type": "code",
   "execution_count": null,
   "metadata": {
    "collapsed": false
   },
   "outputs": [],
   "source": [
    "n=14;\n",
    "u=expm(im*(x->x+x')(randn(2,2)+im*randn(2,2)))\n",
    "psi=random_state(2^n);\n",
    "target_qubit=rand(0:n-1)\n",
    "\n",
    "@time kron(eye(2^(n-target_qubit-1)),u,eye(2^target_qubit))*psi\n",
    "@time apply_unitary!(psi, u, target_qubit)"
   ]
  },
  {
   "cell_type": "code",
   "execution_count": null,
   "metadata": {
    "collapsed": false,
    "scrolled": true
   },
   "outputs": [],
   "source": [
    "# Esto se basara en la formula 3.2.44 del Sakurai\n",
    "function apply_kick!(psi, b, target_qubit)\n",
    "    phi=norm(b)\n",
    "    b_normalized=b/phi\n",
    "    sigma_n=sigmas[1]*b_normalized[1]+sigmas[2]*b_normalized[2]+sigmas[3]*b_normalized[3]\n",
    "    u=eye(2)*cos(phi)-im*sigma_n*sin(phi)\n",
    "    apply_unitary!(psi, u, target_qubit)\n",
    "end "
   ]
  },
  {
   "cell_type": "code",
   "execution_count": null,
   "metadata": {
    "collapsed": false
   },
   "outputs": [],
   "source": [
    "\"\"\"\n",
    "Esta funcion revisa si el bit bit-esimo de n esta o no prendido. \n",
    "\"\"\"\n",
    "function testbit(n, bit)\n",
    "    ~(n&(1<<bit)==0)\n",
    "end "
   ]
  },
  {
   "cell_type": "code",
   "execution_count": null,
   "metadata": {
    "collapsed": false
   },
   "outputs": [],
   "source": [
    "n=4;\n",
    "2^4\n",
    "for i = 0:2^n-1\n",
    "    y= [bin(i,n),testbit(i, 4),testbit(i, 3),testbit(i, 2),testbit(i, 1),testbit(i, 0),i]\n",
    "    @show y\n",
    "end"
   ]
  },
  {
   "cell_type": "code",
   "execution_count": null,
   "metadata": {
    "collapsed": false
   },
   "outputs": [],
   "source": [
    "# Ising:\n",
    "J=1.\n",
    "expJ=exp(im*J)\n",
    "expJc=conj(expJ)\n",
    "\n",
    "number_of_qubits=6;\n",
    "target_qubit_1=2;\n",
    "target_qubit_2=3;\n",
    "psi=random_state(2^number_of_qubits)\n",
    "\n",
    "for i = 0: (1<<number_of_qubits)-1\n",
    "    if testbit(i,target_qubit_1) $ testbit(i,target_qubit_2)\n",
    "        psi[i+1]*=expJc\n",
    "    else\n",
    "        psi[i+1]*=expJ\n",
    "    end\n",
    "end"
   ]
  },
  {
   "cell_type": "code",
   "execution_count": null,
   "metadata": {
    "collapsed": false
   },
   "outputs": [],
   "source": [
    "function apply_ising!(psi, J, target_qubit_1, target_qubit_2)\n",
    "    expJ=exp(im*J)\n",
    "    expJc=conj(expJ)\n",
    "    for i = 0: length(psi)-1\n",
    "        if testbit(i,target_qubit_1) $ testbit(i,target_qubit_2)\n",
    "            psi[i+1]*=expJc\n",
    "        else\n",
    "            psi[i+1]*=expJ\n",
    "        end\n",
    "    end\n",
    "end "
   ]
  },
  {
   "cell_type": "code",
   "execution_count": null,
   "metadata": {
    "code_folding": [
     3
    ],
    "collapsed": false
   },
   "outputs": [],
   "source": [
    "b=[ 1. 1. 0.]\n",
    "phi=norm(b)\n",
    "b_normalized=b/phi\n",
    "sigma_n=sigmas[1]*b_normalized[1]+sigmas[2]*b_normalized[2]+sigmas[3]*b_normalized[3]\n",
    "\n",
    "u=eye(2)*cos(phi)-im*sigma_n*sin(phi)"
   ]
  },
  {
   "cell_type": "markdown",
   "metadata": {},
   "source": [
    "* Notacion binaria: Para definir estados de qubits, que por hende tienen dimencion $2^N$, donde $N$ es el numero de qubits, es útil usar notación binaria:\n",
    "\n",
    "Supongamos que tenemos 3 qubits, entonces una base para el espacio de Hilbert puede ser $|\\alpha_1\\alpha_2\\alpha_3\\rangle$, donde $\\alpha_i\\in\\lbrace 0,1 \\rbrace$. Entonces, por ejemplo, el estado $|000\\rangle$ es representado por el numero \"000\" en binario, que en decimal es simplemente \"0\". Y para los demas tenemos algo asi:\n",
    "$001 \\to 1$, $010 \\to 2$, $111 \\to 7$.. etc.\n",
    "\n",
    "* Luego, por simplicidad, utilizando la base computacional como nuestra base \"canonica\", la sustitución es simple:\n",
    "$|000\\rangle \\to \\left( \\begin{array}{c} 1 \\\\ \\vdots \\\\ 0 \\end{array} \\right)$, $|001\\rangle \\to \\left( \\begin{array}{c} 0 \\\\ 1 \\\\ \\vdots \\end{array} \\right)$, etc.\n",
    "\n",
    "Es decir, la componente que lleva el \"1\" es precisamente la representacion decimal del estado (comenzando a contar desde cero porsupuesto). Sin embargo en julia los vectores se indexan comenzando de 1, por lo que no tenemos la indexacion tan facil. Sin embargo, podemos conservarla y definir la componente $0 \\to N$. Con esta sustitución, todas las componentes se quedan como estan a excepción del cero. Entonces:\n",
    "\n",
    "$|000\\rangle \\to \\left( \\begin{array}{c} 0 \\\\ \\vdots \\\\ 1 \\end{array} \\right)$ y $|001\\rangle \\to \\left( \\begin{array}{c} 1 \\\\ 0 \\\\ \\vdots \\end{array} \\right)$, etc.\n"
   ]
  },
  {
   "cell_type": "markdown",
   "metadata": {},
   "source": [
    "Incluir el @time"
   ]
  },
  {
   "cell_type": "markdown",
   "metadata": {
    "heading_collapsed": true
   },
   "source": [
    "# Probar que los elementos basicos coinciden con lo que tengo programado en c++"
   ]
  },
  {
   "cell_type": "code",
   "execution_count": null,
   "metadata": {
    "collapsed": false,
    "hidden": true
   },
   "outputs": [],
   "source": [
    "n=4;\n",
    "psi=random_state(2^n);\n",
    "# Escritura, usao de map, real e imag\n",
    "writedlm(\"/tmp/estado.dat\",map(x ->string(real(x),\" \", imag(x)), psi))"
   ]
  },
  {
   "cell_type": "code",
   "execution_count": null,
   "metadata": {
    "collapsed": false,
    "hidden": true
   },
   "outputs": [],
   "source": [
    "psi_out_julia=psi;\n",
    "kick=[1. 1.2 1.3];\n",
    "target_qubit=1\n",
    "apply_kick!(psi_out_julia, kick, target_qubit);"
   ]
  },
  {
   "cell_type": "code",
   "execution_count": null,
   "metadata": {
    "collapsed": false,
    "hidden": true
   },
   "outputs": [],
   "source": [
    "command=`/home/carlosp/investigacion/libs/cpp/test_spins -o test_kick_single_spin -q $n --position $target_qubit --bx $(kick[1]) --by $(kick[2]) --bz $(kick[3])`\n",
    "run(pipeline(command, stdout=\"/tmp/estado_final.dat\"))"
   ]
  },
  {
   "cell_type": "code",
   "execution_count": null,
   "metadata": {
    "collapsed": false,
    "hidden": true,
    "scrolled": true
   },
   "outputs": [],
   "source": [
    "b=readdlm(\"/tmp/estado_final.dat\", ' ', '\\n');\n",
    "psi_out_cpp=[Complex{Float64}((x->x[1]+im*x[2])(b[i,:])) for i in 1:2^n];"
   ]
  },
  {
   "cell_type": "code",
   "execution_count": null,
   "metadata": {
    "collapsed": false,
    "hidden": true
   },
   "outputs": [],
   "source": [
    "norm(psi_out_julia-psi_out_cpp)"
   ]
  },
  {
   "cell_type": "code",
   "execution_count": null,
   "metadata": {
    "collapsed": false,
    "hidden": true
   },
   "outputs": [],
   "source": [
    "function compare_kicks(psi, kick, target_qubit)\n",
    "    writedlm(\"/tmp/estado.dat\",map(x ->string(real(x),\" \", imag(x)), psi))\n",
    "    psi_out_julia=psi;\n",
    "    apply_kick!(psi_out_julia, kick, target_qubit);\n",
    "    command=`/home/carlosp/investigacion/libs/cpp/test_spins -o test_kick_single_spin -q $n --position $target_qubit --bx $(kick[1]) --by $(kick[2]) --bz $(kick[3])`\n",
    "    run(pipeline(command, stdout=\"/tmp/estado_final.dat\"))\n",
    "    b=readdlm(\"/tmp/estado_final.dat\", ' ', '\\n');\n",
    "    psi_out_cpp=[Complex{Float64}((x->x[1]+im*x[2])(b[i,:])) for i in 1:2^n];\n",
    "    norm(psi_out_julia-psi_out_cpp)\n",
    "end"
   ]
  },
  {
   "cell_type": "code",
   "execution_count": null,
   "metadata": {
    "collapsed": false,
    "hidden": true
   },
   "outputs": [],
   "source": [
    "n=14;\n",
    "psi=random_state(2^n);\n",
    "error=0\n",
    "kick=2*π*rand(3)\n",
    "for target_qubit=0:n-1\n",
    "    error+=compare_kicks(psi, kick, target_qubit)\n",
    "end\n",
    "error"
   ]
  },
  {
   "cell_type": "code",
   "execution_count": null,
   "metadata": {
    "collapsed": false,
    "hidden": true
   },
   "outputs": [],
   "source": [
    "n=6;\n",
    "psia=random_state(2^n);\n",
    "psit=Complex{Float64}[1, 0, 0 , 0]'';\n",
    "psi=psia;\n",
    "# Escritura, usao de map, real e imag\n",
    "writedlm(\"/tmp/estado.dat\",map(x ->string(real(x),\" \", imag(x)), psi))"
   ]
  },
  {
   "cell_type": "code",
   "execution_count": null,
   "metadata": {
    "collapsed": false,
    "hidden": true
   },
   "outputs": [],
   "source": [
    "psi_out_julia=psi;\n",
    "J=.1;\n",
    "target_qubit_1=0\n",
    "target_qubit_2=1\n",
    "#apply_ising!(psi_out_julia, J, target_qubit_1, target_qubit_2);\n"
   ]
  },
  {
   "cell_type": "code",
   "execution_count": null,
   "metadata": {
    "collapsed": false,
    "hidden": true
   },
   "outputs": [],
   "source": [
    "    command=`/home/carlosp/investigacion/libs/cpp/test_spins -o test_ising_single -q $n --position $target_qubit_1 --position2 $target_qubit_2 --ising_z $J`\n",
    "    run(pipeline(command, stdout=\"/tmp/estado_final.dat\"))\n",
    "    b=readdlm(\"/tmp/estado_final.dat\", ' ', '\\n');\n",
    "    psi_out_cpp=[Complex{Float64}((x->x[1]+im*x[2])(b[i,:])) for i in 1:2^n];"
   ]
  },
  {
   "cell_type": "code",
   "execution_count": null,
   "metadata": {
    "collapsed": false,
    "hidden": true
   },
   "outputs": [],
   "source": [
    "# @show psi_out_cpp;\n",
    "#@show psi_out_julia;\n"
   ]
  },
  {
   "cell_type": "code",
   "execution_count": null,
   "metadata": {
    "collapsed": false,
    "hidden": true
   },
   "outputs": [],
   "source": [
    "function apply_ising!(psi, J, target_qubit_1, target_qubit_2)\n",
    "    expJ=exp(-im*J)\n",
    "    expJc=conj(expJ)\n",
    "    for i = 0: length(psi)-1\n",
    "        if testbit(i,target_qubit_1) $ testbit(i,target_qubit_2)\n",
    "            psi[i+1]*=expJc\n",
    "        else\n",
    "            psi[i+1]*=expJ\n",
    "        end\n",
    "    end\n",
    "end \n",
    "apply_ising!(psi, J, target_qubit_1, target_qubit_2);\n"
   ]
  },
  {
   "cell_type": "code",
   "execution_count": null,
   "metadata": {
    "collapsed": false,
    "hidden": true
   },
   "outputs": [],
   "source": [
    "function compare_ising(psi,  J, target_qubit_1, target_qubit_2)\n",
    "    writedlm(\"/tmp/estado.dat\",map(x ->string(real(x),\" \", imag(x)), psi))\n",
    "    command=`/home/carlosp/investigacion/libs/cpp/test_spins -o test_ising_single -q $n --position $target_qubit_1 --position2 $target_qubit_2 --ising_z $J`\n",
    "    run(pipeline(command, stdout=\"/tmp/estado_final.dat\"))\n",
    "    b=readdlm(\"/tmp/estado_final.dat\", ' ', '\\n');\n",
    "    psi_out_cpp=[Complex{Float64}((x->x[1]+im*x[2])(b[i,:])) for i in 1:2^n];\n",
    "    psi_out_julia=psi;\n",
    "    apply_ising!(psi_out_julia, J, target_qubit_1, target_qubit_2);\n",
    "    norm(psi_out_cpp-psi_out_julia)\n",
    "end"
   ]
  },
  {
   "cell_type": "code",
   "execution_count": null,
   "metadata": {
    "collapsed": false,
    "hidden": true
   },
   "outputs": [],
   "source": [
    "compare_ising(psi,  J, target_qubit_1, target_qubit_2)"
   ]
  },
  {
   "cell_type": "markdown",
   "metadata": {
    "collapsed": true
   },
   "source": [
    "# Cosas por hacer, quiza proyectos finales"
   ]
  }
 ],
 "metadata": {
  "kernelspec": {
   "display_name": "Julia 0.5.2-pre",
   "language": "julia",
   "name": "julia-0.5"
  },
  "language_info": {
   "file_extension": ".jl",
   "mimetype": "application/julia",
   "name": "julia",
   "version": "0.5.2"
  }
 },
 "nbformat": 4,
 "nbformat_minor": 0
}
