{
 "cells": [
  {
   "cell_type": "markdown",
   "metadata": {},
   "source": [
    "# Matriz de densidad I"
   ]
  },
  {
   "cell_type": "markdown",
   "metadata": {
    "heading_collapsed": true
   },
   "source": [
    "## Nuestro estado y un primer observable"
   ]
  },
  {
   "cell_type": "markdown",
   "metadata": {
    "hidden": true
   },
   "source": [
    "Consideremos un qubit, en particular un átomo con espín $1/2$. Vamos a considerar diferentes estados y diferentes mediciones. \n",
    "\n",
    "Si el estado de la partícula es \n",
    "$$\n",
    "|\\psi \\rangle = | \\uparrow \\rangle = |0 \\rangle\n",
    "$$\n",
    "y medimos, por ejemplo, $\\sigma_z$, tenemos el siguiente valor esperado:\n",
    "$$\n",
    "\\langle \\psi | \\sigma_z |\\psi \\rangle = \\langle 0|\\sigma_z |0\\rangle = \\langle 0|0\\rangle =1\n",
    "$$\n",
    "(estamos midiendo el espín, módulo el factor trivial $\\hbar/2$.\n",
    "\n",
    "Quizá mas importante es saber como se distribuyen nuestras mediciones. Para esto, expandimos el estado a medir en los eigenvectores del observable e interpretamos la norma al cuadrado de los coeficientes, como probabilidades de medición. En este caso es tan trivial que puede pasar desapercibido. Para hacer explicitos los eigenvectores del observable, expresamos \n",
    "$$\n",
    "\\sigma_z = |0 \\rangle \\langle 0 | -|1 \\rangle \\langle 1 |\n",
    "$$\n",
    "de donde concluimos que los eigenvectores de $\\sigma_z$ son \n",
    "$$\n",
    "\\{ |0 \\rangle , |1 \\rangle \\}.\n",
    "$$\n",
    "Entonces, expresamos nuestro estado como \n",
    "$$\n",
    "|\\psi \\rangle = 1 |0 \\rangle + 0 |1 \\rangle.\n",
    "$$\n",
    "De aca interpretamos que al medir tenemos una probabilidad de \n",
    "* 1 de obtener el eigenvalor asociado a $|0 \\rangle$ y \n",
    "* 0 de obtener el eigenvalor asociado a $|1 \\rangle$."
   ]
  },
  {
   "cell_type": "markdown",
   "metadata": {
    "hidden": true
   },
   "source": [
    "**Otros observables**\n",
    "\n",
    "Repetiremos el procedimiento, pero para otros observables, y estudiaremos la estadística de las mediciones. Consideremos ahora \n",
    "$$\n",
    "\\sigma_x = \n",
    "\\begin{pmatrix}\n",
    "0 & 1 \\\\\n",
    "1 & 0 \n",
    "\\end{pmatrix}\n",
    "=\n",
    "|x_+ \\rangle \\langle + | -|x_- \\rangle \\langle - |\n",
    "$$\n",
    "con \n",
    "$$\n",
    "|x_\\pm \\rangle = \\frac{|0\\rangle \\pm |1 \\rangle}{\\sqrt{2}}.\n",
    "$$\n",
    "Es decir, tiene la misma estructura que $\\sigma_z$, pero con otros eigenvectores. \n",
    "\n",
    "Nuestro estado ahora lo podemos expresar como \n",
    "$$\n",
    "|0\\rangle = \\frac{1}{\\sqrt{2}} \\frac{|0\\rangle + |1 \\rangle}{\\sqrt{2}} + \\frac{1}{\\sqrt{2}} \\frac{|0\\rangle -|1 \\rangle}{\\sqrt{2}} \n",
    "= \\frac{1}{\\sqrt{2}} |x_+ \\rangle + \\frac{1}{\\sqrt{2}} | x_- \\rangle .\n",
    "$$\n",
    "De aca podemos interpretar las probabilidades de los diferentes resultados al medir $\\sigma_x$:\n",
    "* $\\frac{1}{2}$ de obtener el eigenvalor asociado a $|x_+ \\rangle$ y \n",
    "* $\\frac{1}{2}$ de obtener el eigenvalor asociado a $|x_- \\rangle$."
   ]
  },
  {
   "cell_type": "markdown",
   "metadata": {
    "hidden": true
   },
   "source": [
    "Finalmente, \n",
    "$$\n",
    "\\sigma_y = \n",
    "\\begin{pmatrix}\n",
    "0 & -i \\\\\n",
    "i & 0 \n",
    "\\end{pmatrix}\n",
    "=\n",
    "|y_+ \\rangle \\langle + | -|y_- \\rangle \\langle - |\n",
    "$$\n",
    "con \n",
    "$$\n",
    "|y_\\pm \\rangle = \\frac{|0\\rangle \\pm i |1 \\rangle}{\\sqrt{2}}.\n",
    "$$\n",
    "y\n",
    "$$\n",
    "|0\\rangle =  \n",
    "\\frac{1}{\\sqrt{2}} |y_+ \\rangle + \\frac{1}{\\sqrt{2}} | y_- \\rangle .\n",
    "$$\n",
    "por lo que obtenemos las probabilidades de los diferentes resultados al medir $\\sigma_y$:\n",
    "* $\\frac{1}{2}$ de obtener el eigenvalor asociado a $|y_+ \\rangle$ y \n",
    "* $\\frac{1}{2}$ de obtener el eigenvalor asociado a $|y_- \\rangle$.\n"
   ]
  },
  {
   "cell_type": "markdown",
   "metadata": {
    "heading_collapsed": true
   },
   "source": [
    "## Una situación física nueva "
   ]
  },
  {
   "cell_type": "markdown",
   "metadata": {
    "hidden": true
   },
   "source": [
    "Ahora supongamos que en _cada medición_ elegimos con probabilidad $1/2$ el estado $|0\\rangle$ y con probabilidad $1/2$ el estado $|1\\rangle$. Tendremos la siguiente tabla:\n",
    "* $\\frac{1}{2}$ de obtener el eigenvalor asociado a $|x_+ \\rangle$ \n",
    "* $\\frac{1}{2}$ de obtener el eigenvalor asociado a $|x_- \\rangle$\n",
    "* $\\frac{1}{2}$ de obtener el eigenvalor asociado a $|y_+ \\rangle$ \n",
    "* $\\frac{1}{2}$ de obtener el eigenvalor asociado a $|y_- \\rangle$\n",
    "* $\\frac{1}{2}$ de obtener el eigenvalor asociado a $|z_+ \\rangle$ y \n",
    "* $\\frac{1}{2}$ de obtener el eigenvalor asociado a $|z_- \\rangle$.\n",
    "No existe _ningún_ estado *puro* que nos de esa estadística. Para incorporar la ignorancia que acabamos de introducir,  se propone el concepto de _matriz de densidad_. "
   ]
  },
  {
   "cell_type": "markdown",
   "metadata": {
    "hidden": true
   },
   "source": [
    "El concepto de matriz de densidad se usa cuando tenemos una superposición estadístisca de varios estados. En este caso,\n",
    "Si tenemos cierta probabilidad $p_i$ de tener un estado $|\\psi_i\\rangle$, entonces la matriz de densidad correspondiente es\n",
    "$$\n",
    "\\rho = \\sum_i p_i |\\psi_i\\rangle\\langle\\psi_i|.\n",
    "$$\n",
    "Se dice que tenemos una superposicion estadística de los estados $|\\psi_i\\rangle$. Nótese que ahora especificamos el estado con una _matriz_ y no con un vector. \n",
    "\n",
    "En el ejemplo anterior, nuestro estado cuántico sería\n",
    "$$\n",
    "\\rho = \\frac{1}{2} |0\\rangle \\langle 0| + \\frac{1}{2} |1\\rangle \\langle 1| = \\frac{1}{2}\n",
    "\\begin{pmatrix}\n",
    "1 & 0 \\\\\n",
    "0& 1 \n",
    "\\end{pmatrix}.\n",
    "$$\n",
    "\n",
    "La matriz de densidad permite introducir el concepto de ensamble en mecánica cuantica. Tambien permite introducir el concepto de ignorancia, por ejemplo con respecto a una medición. Dos observadores, uno con mas información que otro, van a describir el mismo estado con diferentes objetos matemáticos. Esto nos hace reflexionar acerca de la validez o \"realidad\" de la función de onda (o de la matriz de densidad). Una cita de Peres es bastante util en este punto:\n",
    "\n",
    "_Many physicists, perhaps a majority, have an intuitive, realistic worldview and consider a quantum state as a physical entity. Its value may not be known, but in principle the quantum state of a physical system would be well defined. However, there is no experimental evidence whatsoever to support this naive belief. On the contrary, if this view is taken seriously, it may lead to bizarreconsequences,called \"quantumparadoxes.\"_\n",
    "\n",
    "Los valores esperados se calculan como se explicó arriba, y si antes haciamos la evolución como \n",
    "$$\n",
    "|\\psi(t)\\rangle= U(t)|\\psi(0)\\rangle\n",
    "$$\n",
    "ahora simplemente, para la matriz de densidad, la hacemos como \n",
    "$$\n",
    "\\rho=U(t)\\rho(0)U^\\dagger(t)\n",
    "$$\n",
    "Los postulados de medición funcionan de manera similar, es decir, en vez de proyectar \n",
    "$$\n",
    "|\\psi\\rangle \\to \\propto P_m |\\psi\\rangle\n",
    "$$\n",
    "proyectamos a \n",
    "$$\n",
    "\\rho \\to \\propto P_m\\rho P_m.\n",
    "$$"
   ]
  },
  {
   "cell_type": "markdown",
   "metadata": {},
   "source": [
    "# Sistemas compuestos "
   ]
  },
  {
   "cell_type": "markdown",
   "metadata": {
    "heading_collapsed": true
   },
   "source": [
    "## El espacio tensorial"
   ]
  },
  {
   "cell_type": "markdown",
   "metadata": {
    "hidden": true
   },
   "source": [
    "Sea $A+B$ un sistema bipartito, y $\\mathcal{H}=\\mathcal{H}_A\\otimes\\mathcal{H}_B$ el espacio de Hilbert asociado al mismo. Consideremos una base en cada uno de los espacios\n",
    "\\begin{equation}\n",
    "\\{|i\\rangle_{(A,B)} \\}.\n",
    "\\end{equation}\n",
    "Por ejemplo, si tenemos dos qubits, el $A$ y el $B$, las dos bases en cuestion serían\n",
    "\\begin{equation}\n",
    "\\{|0\\rangle_A,|1\\rangle_A \\}\n",
    "\\end{equation}\n",
    "y\n",
    "\\begin{equation}\n",
    "\\{|0\\rangle_B,|1\\rangle_B \\}.\n",
    "\\end{equation}\n",
    "Los elementos del espacio producto serán combinaciones lineales de \n",
    "\\begin{equation}\n",
    "|i j\\rangle\\equiv |i\\rangle_{(A)}\\otimes|j\\rangle_{(B)}.\n",
    "\\end{equation}\n",
    "Es decir, cualquier estado se puede escribir como \n",
    "\\begin{equation}\n",
    "|\\psi \\rangle = \\sum_{i,j}\\psi_{ij}|ij\\rangle.\n",
    "\\end{equation}\n",
    "Por ejemplo, para un sistema de dos qubits, podemos escribir que el estado más general es \n",
    "\\begin{equation}\n",
    "|\\psi \\rangle = \n",
    "\\psi_{00}|0\\rangle_{(A)}|0\\rangle_{(B)}+\n",
    "\\psi_{01}|0\\rangle_{(A)}|1\\rangle_{(B)}+\n",
    "\\psi_{10}|1\\rangle_{(A)}|0\\rangle_{(B)}+\n",
    "\\psi_{11}|1\\rangle_{(A)}|1\\rangle_{(B)}\n",
    "=\n",
    "\\psi_{00}|00\\rangle+\n",
    "\\psi_{01}|01\\rangle+\n",
    "\\psi_{10}|10\\rangle+\n",
    "\\psi_{11}|11\\rangle.\n",
    "\\end{equation}"
   ]
  },
  {
   "cell_type": "markdown",
   "metadata": {},
   "source": [
    "## Producto punto"
   ]
  },
  {
   "cell_type": "markdown",
   "metadata": {},
   "source": [
    "El producto punto se _define_ sobre estados producto de la siguiente manera:\n",
    "$$\n",
    "(\\langle\\psi_1|\\otimes\\langle \\phi_1|)(|\\psi_2\\rangle\\otimes|\\phi_2\\rangle)\\equiv\n",
    "\\langle\\psi_1|\\psi_2\\rangle \\langle \\phi_1|\\phi_2\\rangle.\n",
    "$$\n",
    "A estados que no sean de la forma producto, se usan la linealidad (o antilinealidad) del producto para simplificarlo y poder aplicar la formula de arriba."
   ]
  },
  {
   "cell_type": "markdown",
   "metadata": {
    "heading_collapsed": true
   },
   "source": [
    "## Estados separables y enlazados"
   ]
  },
  {
   "cell_type": "markdown",
   "metadata": {
    "hidden": true
   },
   "source": [
    "No todos los estados en el espacio producto son producto de estados. Consideremos por ejemplo el estado\n",
    "$$\n",
    "|\\text{Bell}\\rangle\n",
    "= \\frac{|00\\rangle+|11\\rangle}{\\sqrt{2}}.\n",
    "$$\n",
    "Dicho estado no es el resultado de un producto. Para comprobarlo, veamos que\n",
    "\\begin{align}\n",
    "|\\text{Bell}\\rangle &\\ne\n",
    "(\\alpha_0|0\\rangle_A +\\alpha_1|1\\rangle_A)\\otimes\n",
    "(\\beta_0|0\\rangle_B +\\beta_1|1\\rangle_B)\\\\\n",
    "&=\n",
    "\\alpha_0\\beta_0|00\\rangle+\n",
    "\\alpha_0\\beta_1|01\\rangle+\n",
    "\\alpha_1\\beta_0|10\\rangle+\n",
    "\\alpha_1\\beta_1|11\\rangle.\n",
    "\\end{align}\n",
    "Para poder ver que es asi, vamos a igualar los coeficientes a lado y lado de la ecuación. Esto quiere decir que \n",
    "\\begin{equation}\n",
    "\\alpha_0\\beta_0 = \\frac{1}{\\sqrt{2}},\\quad\n",
    "\\alpha_0\\beta_1 = 0,\\quad\n",
    "\\alpha_1\\beta_0 = 0,\\quad\n",
    "\\alpha_1\\beta_1 = \\frac{1}{\\sqrt{2}}.\n",
    "\\end{equation}\n",
    "Ahora, para la segunda linea requerimos que $\\alpha_0 \\beta_1=0$, lo que implicaria que $\\alpha_0=$ ó $\\beta_1=0$. De manera similar se requiere $\\alpha_1 \\beta_0=0$, lo que implica que $\\alpha_1=0$ o que $\\beta_0=0$. Cualquier elección nos lleva a una contradicción. \n",
    "\n",
    "Definimos los estados _separables_ como aquellos que tienen la forma \n",
    "$$\n",
    " |\\psi\\rangle_A\\otimes |\\phi\\rangle_B\n",
    "$$\n",
    "y definiremos como estados _enlazados_ aquellos que no son separables.\n",
    "\n",
    "Los estados enlazados son muy diferentes a los estados clásicos y tienen correlaciones que no podemos explicar clásicamente. Su estudio es toda un área en información cuántica. "
   ]
  },
  {
   "cell_type": "markdown",
   "metadata": {
    "heading_collapsed": true
   },
   "source": [
    "# Teleportación"
   ]
  },
  {
   "cell_type": "markdown",
   "metadata": {
    "hidden": true
   },
   "source": [
    "Como una aplicacion de sistemas compuestos, vamos a estudiar teleportacion. "
   ]
  },
  {
   "cell_type": "markdown",
   "metadata": {
    "heading_collapsed": true,
    "hidden": true
   },
   "source": [
    "## Esquema general"
   ]
  },
  {
   "cell_type": "markdown",
   "metadata": {
    "hidden": true
   },
   "source": [
    "![](images/teleportation_scheme.png)\n",
    "\n",
    "* Todo es información. Lo que nos diferencia de una silla es la forma como están organizados los átomos. \n",
    "* Queremos teleportar un estado cuántico.  "
   ]
  },
  {
   "cell_type": "markdown",
   "metadata": {
    "heading_collapsed": true,
    "hidden": true
   },
   "source": [
    "## El problema"
   ]
  },
  {
   "cell_type": "markdown",
   "metadata": {
    "hidden": true
   },
   "source": [
    "* Alice y Bob comparten un par de Bell, y aunque el estado no puede describirse en forma local, cada uno de los constituyentes puede estar en sitios diferentes. \n",
    "* Alice además posee un estado que desea transmitir. \n",
    "* Este estado es, en general, desconocido. "
   ]
  },
  {
   "cell_type": "markdown",
   "metadata": {
    "heading_collapsed": true,
    "hidden": true
   },
   "source": [
    "## Las operaciones"
   ]
  },
  {
   "cell_type": "markdown",
   "metadata": {
    "hidden": true
   },
   "source": [
    "* Se hace un CNOT del qubit desconocido al qubit que Alice posee. \n",
    "* Se hace un Hadamard al qubit desconocido\n",
    "* Se hace una medición a los qubits que tiene Alice. El resultado del qubit desconocido lo llamamos $k_0$ y el que originalmente componía le par de Bell lo llamamos $k_1$. \n",
    "* Alice envía por teléfono el resultado a Bob. Si  Bob recibe $(k_0, k_1)=(0, 0 )$, no hace nada. Si recibe $(0,1)$ hace un $\\sigma_z$ en el qubit, si recibe $(1, 0)$ hace un $\\sigma_x$ y si recibe un $(1, 1)$ hace un $\\sigma_y$."
   ]
  },
  {
   "cell_type": "markdown",
   "metadata": {
    "heading_collapsed": true,
    "hidden": true
   },
   "source": [
    "## Formalismo y prueba"
   ]
  },
  {
   "cell_type": "markdown",
   "metadata": {
    "hidden": true
   },
   "source": [
    "Para ser más precisos, supongamos que partimos el espacio\n",
    "\\begin{equation}\n",
    "\\mathcal{H}_q \\otimes \\mathcal{H}_A \\otimes \\mathcal{H}_B\n",
    "\\end{equation}\n",
    "donde $\\mathcal{H}_q$ denota el espacio de Hilbert del qubit que deseamos teleportar, $\\mathcal{H}_A$ es el espacio de Hilbert de Alice, que es la persona que va a hacer el envío y $\\mathcal{H}_B$ es el espacio de Hilbert de Bob, quien recibirá el qubit. \n",
    "\n",
    "Vamos a suponer que el qubit desconocido está en el estado\n",
    "\\begin{equation}\n",
    "|\\psi\\rangle = \\alpha |0\\rangle + \\beta |1\\rangle.\n",
    "\\end{equation}\n",
    "El estado de los otros dos qubits es un par de Bell, esto es\n",
    "\\begin{equation}\n",
    "|\\psi\\rangle_{AB} = \\frac{1}{\\sqrt{2}}( |00\\rangle + |11\\rangle).\n",
    "\\end{equation}\n",
    "por lo que el estado inicial será\n",
    "\\begin{align*}\n",
    "|\\psi_0\\rangle =  \\frac{1}{\\sqrt{2}}(\\alpha |0\\rangle + \\beta |1\\rangle)(|00\\rangle + |11\\rangle)\n",
    "= \\frac{1}{\\sqrt{2}}(\\alpha |000\\rangle + \\alpha |011\\rangle + \\beta |100\\rangle + \\beta |111\\rangle).\n",
    "\\end{align*}\n",
    "Después de eso, tenemos que hacer un _control not_ (CN). El CN es una operación unitaria que hace un NOT si el qubit de control está encendido. Esto es, va a tener el efecto\n",
    "\\begin{align*}\n",
    "U_{CN}|00\\rangle &= |00\\rangle  \\\\\n",
    "U_{CN}|01\\rangle &= |01\\rangle \\\\\n",
    "U_{CN}|10\\rangle &= |11\\rangle \\\\\n",
    "U_{CN}|11\\rangle &= |10\\rangle\n",
    "\\end{align*}\n",
    "donde el qubit de control es el primero y el target qubit es el segundo. \n",
    "\n",
    "Entonces, el efecto sobre el estado sera \n",
    "\\begin{equation}\n",
    "|\\psi_1\\rangle = U_{CN}^{qA} |\\psi_0\\rangle = \n",
    "\\frac{1}{\\sqrt{2}}(\\alpha |000\\rangle + \\alpha |011\\rangle + \\beta |110\\rangle + \\beta |101\\rangle).\n",
    "\\end{equation}\n",
    "Después hacemos el Hadamard gate, que transforma:\n",
    "\\begin{align}\n",
    "H|0\\rangle &= \\frac{1}{\\sqrt{2}} (|0\\rangle + |1\\rangle )\\\\\n",
    "H|1\\rangle &= \\frac{1}{\\sqrt{2}} (|0\\rangle - |1\\rangle ).\n",
    "\\end{align}\n",
    "Entonces, el efecto sobre el estado en cuestión será \n",
    "\\begin{align}\n",
    "|\\psi_2\\rangle & =\\frac12(\n",
    "\\alpha|000\\rangle  + \\alpha|100\\rangle +  \\alpha|011\\rangle  + \\alpha|111\\rangle  + \\beta|010\\rangle  - \\beta|110\\rangle  + \\beta|001\\rangle -\\beta|101\\rangle) \\\\\n",
    "&=\\frac12(\n",
    "|00\\rangle(\\alpha|0\\rangle + \\beta|1\\rangle) +|01\\rangle(\\alpha|1\\rangle + \\beta|0\\rangle) +|10\\rangle(\\alpha|0\\rangle - \\beta|1\\rangle) +|11\\rangle(\\alpha|1\\rangle - \\beta|0\\rangle)\n",
    ").\n",
    "\\end{align}\n",
    "De esta manera, si medimos que el estado está en $|00\\rangle$, no tenemos que hacer \n",
    "nada. \n",
    "Si obtenemos $(0,1)$, $(1,0)$, $(1,1)$ aplicamos $\\sigma_x$, $\\sigma_z$ o $\\sigma_y$, respectivamente."
   ]
  },
  {
   "cell_type": "markdown",
   "metadata": {
    "heading_collapsed": true,
    "hidden": true
   },
   "source": [
    "### Algunas anotaciones"
   ]
  },
  {
   "cell_type": "markdown",
   "metadata": {
    "hidden": true
   },
   "source": [
    "* El estado cuantico, en un formalismo clásico, tiene infinita información pues contiene números reales. Así, transmitirlo, requeriría una cantidad infinita de bits.\n",
    "* En la teleportación, el estado original se destruye. Esto hace que no se contradiga el teorema de no clonación.\n",
    "* Pareciera que algo se transmite de manera instantanea, pero el estado al final, que tiene Bob, tiene _cero_ información, si no se conocen los resultados de la medición de Alice."
   ]
  },
  {
   "cell_type": "markdown",
   "metadata": {
    "heading_collapsed": true,
    "hidden": true
   },
   "source": [
    "### Circuito cuántico"
   ]
  },
  {
   "cell_type": "markdown",
   "metadata": {
    "hidden": true
   },
   "source": [
    "Del Nielsen & Chuang:\n",
    "![Del Nielsen & Chuang](images/circuito.png)"
   ]
  },
  {
   "cell_type": "markdown",
   "metadata": {
    "hidden": true
   },
   "source": [
    "Quantum computation and quantum information\n",
    "MA Nielsen, IL Chuang\n",
    "Cambridge University Press, Cambridge"
   ]
  },
  {
   "cell_type": "markdown",
   "metadata": {
    "heading_collapsed": true
   },
   "source": [
    "# Construcción de librerias en julia"
   ]
  },
  {
   "cell_type": "markdown",
   "metadata": {
    "hidden": true
   },
   "source": [
    "Documentación: http://docs.julialang.org/en/release-0.5/manual/modules/\n",
    "\n",
    "* Esquema general de una libreria (modulo), digamos MyModule.jl\n",
    "\n",
    "__module MyModule__ _(nombre del modulo)_\n",
    "\n",
    "__using package1, package2__ _(Aqui llamamos los paquetes que nuestro modulo necesita para funcionar)_\n",
    "\n",
    "__export x, y__ _(las funciones que exportamos al workspace cuando llamamos al modulo)_\n",
    "\n",
    "__x() = \"x\"__\n",
    "\n",
    "__y() = \"y\"__\n",
    "\n",
    "__p() = \"p\"__ _(Nótese que la funcion p() no esta exportada, podemos definir funciones de uso interno, esta no aparcera en el workspace con el comando \"using MyModule\", sin embargo será accesible con \"import MyModule\")_\n",
    "\n",
    "__end__"
   ]
  },
  {
   "cell_type": "markdown",
   "metadata": {
    "heading_collapsed": true,
    "hidden": true
   },
   "source": [
    "## Nuestra libreria"
   ]
  },
  {
   "cell_type": "code",
   "execution_count": null,
   "metadata": {
    "collapsed": false,
    "hidden": true
   },
   "outputs": [],
   "source": [
    "__precompile__() # Este comando es para que julia precompile el paquete\n",
    "\n",
    "module quantum\n",
    "\n",
    "export random_state, projector, sigma_x, sigma_y, sigma_z, sigmas\n",
    "\n",
    "function random_state(dim=2::Int)\n",
    "    v=randn(1,dim)+randn(1,dim)im\n",
    "    v=v/norm(v)\n",
    "    return v'\n",
    "end\n",
    "\n",
    "function projector(state)\n",
    "    return state*state'\n",
    "end\n",
    "\n",
    "sigma_x=[0. 1.; 1. 0.]\n",
    "sigma_y=[0. -im; im 0]\n",
    "sigma_z=[1. 0.;0. -1.]\n",
    "sigmas=[sigma_x, sigma_y, sigma_z]\n",
    "\n",
    "end"
   ]
  },
  {
   "cell_type": "markdown",
   "metadata": {
    "hidden": true
   },
   "source": [
    "La idea ahora es tener esto disponible en otras sesiones de Julia.\n",
    "\n",
    "**Ejercicio**\n",
    "\n",
    "* Crear el archivo _quantum.jl_ con el codigo de arriba, dentro de una estructura de archivos de la siguiente forma: _\"quantum/src/quantum.jl\"_\n",
    "\n",
    "Para usar el comando __using__, Julia busca paquetes dentro de los directorios del archivo __LOAD\\_PATH__ :"
   ]
  },
  {
   "cell_type": "code",
   "execution_count": 1,
   "metadata": {
    "collapsed": false,
    "hidden": true
   },
   "outputs": [
    {
     "data": {
      "text/plain": [
       "2-element Array{String,1}:\n",
       " \"/usr/local/share/julia/site/v0.5\"\n",
       " \"/usr/share/julia/site/v0.5\"      "
      ]
     },
     "execution_count": 1,
     "metadata": {},
     "output_type": "execute_result"
    }
   ],
   "source": [
    "LOAD_PATH"
   ]
  },
  {
   "cell_type": "markdown",
   "metadata": {
    "hidden": true
   },
   "source": [
    "Para que Julia pueda encontrar nuestro nuevo paquete, donde sea que deseemos llevar a cabo el desarrollo de la misma, tenemos que incluir la direccion del mismo en ese archivo."
   ]
  },
  {
   "cell_type": "code",
   "execution_count": 5,
   "metadata": {
    "collapsed": false,
    "hidden": true
   },
   "outputs": [
    {
     "data": {
      "text/plain": [
       "\"/mnt/homes/home/david/Escritorio/Maestria/Proyectos/haganloquequieran/propuesta_clases\""
      ]
     },
     "execution_count": 5,
     "metadata": {},
     "output_type": "execute_result"
    }
   ],
   "source": [
    "pwd() # Con este comando podemos ver la ruta de este notebook"
   ]
  },
  {
   "cell_type": "markdown",
   "metadata": {
    "hidden": true
   },
   "source": [
    "Para este ejemplo, el directorio done queremos que julia busque librerias, es el de la clase, para agregarlo hacemos lo siguiente:"
   ]
  },
  {
   "cell_type": "code",
   "execution_count": 2,
   "metadata": {
    "collapsed": false,
    "hidden": true
   },
   "outputs": [
    {
     "data": {
      "text/plain": [
       "3-element Array{String,1}:\n",
       " \"/usr/local/share/julia/site/v0.5\"                                                      \n",
       " \"/usr/share/julia/site/v0.5\"                                                            \n",
       " \"/mnt/homes/home/david/Escritorio/Maestria/Proyectos/haganloquequieran/propuesta_clases\""
      ]
     },
     "execution_count": 2,
     "metadata": {},
     "output_type": "execute_result"
    }
   ],
   "source": [
    "push!(LOAD_PATH, \n",
    "\"/mnt/homes/home/david/Escritorio/Maestria/Proyectos/haganloquequieran/propuesta_clases\")"
   ]
  },
  {
   "cell_type": "markdown",
   "metadata": {
    "hidden": true
   },
   "source": [
    "Este cambio puede ser permanente si editamos/creamos el archivo .juliarc.jl en nuestro _home_, añadiendo la linea de arriba."
   ]
  },
  {
   "cell_type": "markdown",
   "metadata": {
    "hidden": true
   },
   "source": [
    "Ahora podemos llamar a la libreria que acabamos de crear:"
   ]
  },
  {
   "cell_type": "code",
   "execution_count": 3,
   "metadata": {
    "collapsed": false,
    "hidden": true
   },
   "outputs": [
    {
     "name": "stderr",
     "output_type": "stream",
     "text": [
      "\u001b[1m\u001b[34mINFO: Recompiling stale cache file /home/david/.julia/lib/v0.5/quantum.ji for module quantum.\n",
      "\u001b[0m"
     ]
    }
   ],
   "source": [
    "using quantum"
   ]
  },
  {
   "cell_type": "markdown",
   "metadata": {},
   "source": [
    "# Matriz de densidad II"
   ]
  },
  {
   "cell_type": "markdown",
   "metadata": {},
   "source": [
    "El concepto de matriz de densidad de densidad se usa en diversas ocasiones. \n",
    "\n",
    "Una de ellas es cuando tenemos una superosición estadístisca de varios estados. Esto quiere decir que con cierta probabilidad tenemos cierto estado. En particular, consideremos que tenemos una probabilidad $p_i$ de tener un estado $|\\psi_i\\rangle$. \n",
    "\n",
    "Cuando calculamos un observable, podemos ver que el valor esperado será la suma ponderada de cada uno de los valores\n",
    "esperados. Es decir, \n",
    "$$\n",
    "\\langle A \\rangle = \\sum_i p_i \\langle A \\rangle_i\n",
    "$$\n",
    "donde $\\langle A \\rangle_i= \\langle \\psi_i| A |\\psi_i\\rangle$. Usando la formula, podemos reescribir\n",
    "$$\n",
    "\\langle A \\rangle = \\sum_i p_i \\text{tr} \\langle \\psi_i| A |\\psi_i\\rangle.\n",
    "$$\n",
    "Usando las propiedades de linealidad de la traza, también vemos que \n",
    "$$\n",
    "\\langle A \\rangle \n",
    "=  \\text{tr} \\hspace{2 pt} A \\sum_i p_i |\\psi_i\\rangle\\langle \\psi_i|\n",
    "=  \\text{tr}  A \\rho,\n",
    "$$\n",
    "si definimos \n",
    "$$\n",
    "\\rho =  \\sum_i p_i  |\\psi_i\\rangle\\langle \\psi_i|.\n",
    "$$\n",
    "Esta es la matriz de densidad. \n",
    "\n",
    "La matriz de densidad permite introducir el concepto de ensamble en mecánica cuantica, crucial en el campo de la mecánica estadística (en este caso, $\\rho \\propto \\text{exp}(-H/kT)$. Tambien permite introducir el concepto de ignorancia, por ejemplo con respecto a una medición. Dos observadores, uno con mas información que otro, van a describir el mismo estado con diferentes objetos matemáticos. Esto nos hace reflexionar acerca de la validez o \"realidad\" de la función de onda (o de la matriz de densidad). Una cita de Peres es bastante útil en este punto:\n",
    "\n",
    "_Many physicists, perhaps a majority, have an intuitive, realistic worldview and consider a quantum state as a physical entity. Its value may not be known, but in principle the quantum state of a physical system would be well defined. However, there is no experimental evidence whatsoever to support this naive belief. On the contrary, if this view is taken seriously, it may lead to bizarre consequences,called \"quantum paradoxes.\"_ [Peres, A, and Terno, D.R. Quantum information and relativity theory. _Rev. Mod. Phys._ 76: 93-123 (2004)]\n",
    "\n",
    "Los valores esperados se calculan como se explicó arriba. Recordando que para estados puros la evolución está dada por \n",
    "$$\n",
    "|\\psi(t)\\rangle= U(t)|\\psi(0)\\rangle,\n",
    "$$\n",
    "resulta natural ahora que \n",
    "$$\n",
    "\\rho=U(t)\\rho(0)U^\\dagger(t),\n",
    "$$\n",
    "puesto que esto evolucionará cada uno los estados que la componen en forma independiente.\n",
    "\n",
    "Los postulados de medición funcionan de manera similar, es decir, en vez de proyectar \n",
    "$$\n",
    "|\\psi\\rangle \\to \\propto P_m |\\psi\\rangle\n",
    "$$\n",
    "proyectamos a \n",
    "$$\n",
    "\\rho \\to \\propto P_m\\rho P_m.\n",
    "$$"
   ]
  },
  {
   "cell_type": "markdown",
   "metadata": {},
   "source": [
    "### Ejercicio"
   ]
  },
  {
   "cell_type": "code",
   "execution_count": 4,
   "metadata": {
    "collapsed": true
   },
   "outputs": [],
   "source": [
    "using quantum"
   ]
  },
  {
   "cell_type": "code",
   "execution_count": 5,
   "metadata": {
    "collapsed": false
   },
   "outputs": [
    {
     "data": {
      "text/plain": [
       "sampling_sigma_z"
      ]
     },
     "execution_count": 5,
     "metadata": {},
     "output_type": "execute_result"
    }
   ],
   "source": [
    "proj0=projector([1,0]);\n",
    "proj1=projector([0,1]);\n",
    "\"\"\"\n",
    "Esta funcion regresa un sampling del estado (primera entrada de la funcin) del \n",
    "tamaño especificado \n",
    "en la segunda entrada de la funcion\n",
    "\"\"\"\n",
    "function sampling_sigma_z(state,measurements::Int=10)\n",
    "    p0=trace(proj0*state)\n",
    "    list=rand(measurements)\n",
    "    for i in range(1,measurements)\n",
    "        if list[i]<=real(p0)\n",
    "            list[i]=0\n",
    "        else\n",
    "            list[i]=1\n",
    "        end\n",
    "    end\n",
    "    return list\n",
    "end"
   ]
  },
  {
   "cell_type": "code",
   "execution_count": 6,
   "metadata": {
    "collapsed": true
   },
   "outputs": [],
   "source": [
    "using Plots"
   ]
  },
  {
   "cell_type": "code",
   "execution_count": 9,
   "metadata": {
    "collapsed": false
   },
   "outputs": [
    {
     "data": {
      "text/markdown": [
       "No documentation found.\n",
       "\n",
       "`Plots.histogram` is a `Function`.\n",
       "\n",
       "```\n",
       "# 1 method for generic function \"histogram\":\n",
       "histogram(args...; kw...) at /home/david/.julia/v0.5/Plots/src/Plots.jl:139\n",
       "```\n"
      ],
      "text/plain": [
       "No documentation found.\n",
       "\n",
       "`Plots.histogram` is a `Function`.\n",
       "\n",
       "```\n",
       "# 1 method for generic function \"histogram\":\n",
       "histogram(args...; kw...) at /home/david/.julia/v0.5/Plots/src/Plots.jl:139\n",
       "```\n"
      ]
     },
     "execution_count": 9,
     "metadata": {},
     "output_type": "execute_result"
    }
   ],
   "source": [
    "?Plots.histogram"
   ]
  },
  {
   "cell_type": "code",
   "execution_count": 8,
   "metadata": {
    "collapsed": false
   },
   "outputs": [
    {
     "name": "stderr",
     "output_type": "stream",
     "text": [
      "\u001b[1m\u001b[34mINFO: Installing PyQt5 via Anaconda's /home/david/anaconda3/bin/conda...\n",
      "\u001b[0m"
     ]
    },
    {
     "name": "stdout",
     "output_type": "stream",
     "text": [
      "Fetching package metadata .........\n",
      "Solving package specifications: .\n",
      "\n",
      "# All requested packages already installed.\n",
      "# packages in environment at /home/david/anaconda3:\n",
      "#\n",
      "pyqt                      4.11.4                   py34_4  \n"
     ]
    },
    {
     "data": {
      "text/html": [
       "<img src=\"data:image/png;base64,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\" />"
      ]
     },
     "execution_count": 8,
     "metadata": {},
     "output_type": "execute_result"
    }
   ],
   "source": [
    "statemix=(proj0+proj1)/2;\n",
    "list=sampling_sigma_z(statemix,1000);\n",
    "Plots.histogram(list)"
   ]
  },
  {
   "cell_type": "code",
   "execution_count": 10,
   "metadata": {
    "collapsed": false
   },
   "outputs": [
    {
     "data": {
      "text/html": [
       "<img src=\"data:image/png;base64,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\" />"
      ]
     },
     "execution_count": 10,
     "metadata": {},
     "output_type": "execute_result"
    }
   ],
   "source": [
    "statepure=projector([1,1]/sqrt(2));\n",
    "list=sampling_sigma_z(statepure,1000);\n",
    "Plots.histogram(list)"
   ]
  },
  {
   "cell_type": "markdown",
   "metadata": {},
   "source": [
    "Ahora con el estado rotado"
   ]
  },
  {
   "cell_type": "code",
   "execution_count": 11,
   "metadata": {
    "collapsed": false
   },
   "outputs": [
    {
     "data": {
      "text/plain": [
       "2×2 Array{Complex{Float64},2}:\n",
       "  0.707107+0.0im  0.707107+0.0im\n",
       " -0.707107+0.0im  0.707107+0.0im"
      ]
     },
     "execution_count": 11,
     "metadata": {},
     "output_type": "execute_result"
    }
   ],
   "source": [
    "rotation=expm(im*sigma_y*pi/4)"
   ]
  },
  {
   "cell_type": "code",
   "execution_count": 12,
   "metadata": {
    "collapsed": false
   },
   "outputs": [
    {
     "data": {
      "text/html": [
       "<img src=\"data:image/png;base64,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\" />"
      ]
     },
     "execution_count": 12,
     "metadata": {},
     "output_type": "execute_result"
    }
   ],
   "source": [
    "statepurerot=rotation*statepure*(rotation');\n",
    "list=sampling_sigma_z(statepurerot,1000);\n",
    "Plots.histogram(list) # Aqui si da puros ceros, pero el histograma no lo refleja"
   ]
  },
  {
   "cell_type": "code",
   "execution_count": 14,
   "metadata": {
    "collapsed": false
   },
   "outputs": [
    {
     "data": {
      "text/html": [
       "<img src=\"data:image/png;base64,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\" />"
      ]
     },
     "execution_count": 14,
     "metadata": {},
     "output_type": "execute_result"
    }
   ],
   "source": [
    "statemixrot=rotation*statemix*(rotation');\n",
    "list=sampling_sigma_z(statemixrot,1000);\n",
    "Plots.histogram(list)"
   ]
  },
  {
   "cell_type": "markdown",
   "metadata": {},
   "source": [
    "# Traza parcial"
   ]
  },
  {
   "cell_type": "markdown",
   "metadata": {},
   "source": [
    "La traza parcial se define como la operación que me lleva \n",
    "$$\n",
    "\\text{tr}_B\n",
    "|a_1 b_1\\rangle\\langle a_2 b_2|=\\langle b_2|b_1\\rangle |a_1 \\rangle\\langle a_2|,\n",
    "$$\n",
    "y se extiende a todo el espacio requiriendo linealidad. Note que es una operación que va de un espacio de Hilbert a otro. \n",
    "\n",
    "Al aplicarla a una matriz de densidad de un sistema bipartita, obtenemos\n",
    "$$\n",
    "\\text{tr}_B \\rho =\n",
    "\\text{tr}_B \\sum_{ijkl} \\rho_{ij,kl}|ij\\rangle\\langle kl|=\n",
    "\\sum_{ijkl} \\rho_{ij,kl} |i\\rangle\\langle k| \\delta_{jl}=\n",
    "\\sum_{ijk} \\rho_{ij,kj} |i\\rangle\\langle k|.\n",
    "$$\n",
    "\n",
    "\n",
    "La _matriz de densidad reducida_ se define como \n",
    "$$\n",
    "\\rho_A =\\text{tr}_B \\rho_{AB}.\n",
    "$$\n",
    "Este es el estado del sistema si ignoramos el resto. Para ver esto, tenemos que ver que _todos_ los observables en $A$ los podemos calcular usando solo $\\rho_A$, y da lo mismo que usando $\\rho_{AB}$. En particular, lo que queremos comprobar es que \n",
    "\\begin{equation}\n",
    "\\text{tr} M\\rho_A = \n",
    "\\text{tr} (M\\otimes 1) \\rho_{AB}.\n",
    "\\end{equation}\n",
    "\n",
    "Entonces, calculemos expresiones explícitas, suponiendo que \n",
    "$$\n",
    "M=\\sum_{ik} m_{ik}|i\\rangle\\langle k|.\n",
    "$$\n",
    "Vamos a tener entonces que\n",
    "$$\n",
    "M\\otimes 1 =\\sum_{ijk} m_{ik}|ij\\rangle\\langle kj|.\n",
    "$$\n",
    "\n",
    "Calculemos entonces:\n",
    "\\begin{align}\n",
    "\\text{tr} M\\rho_A &=\n",
    "\\text{tr} \\sum_{i'k'ijk} m_{i'k'}|i'\\rangle\\langle k'| \\rho_{ij,kj}|i\\rangle\\langle k|\\\\\n",
    "&=\\text{tr} \\sum_{ijk} m_{ki} \\rho_{ij,kj}\n",
    "\\end{align}\n",
    "mientras que \n",
    "\\begin{align}\n",
    "\\text{tr} (M\\otimes 1) \\rho_{AB} &=\n",
    "\\text{tr} \\sum_{ijki'j'k'l'} m_{ik} |ij\\rangle \\langle kj| \\rho_{i'j',k'l'}|i'j'\\rangle\\langle k'l'|\\\\\n",
    "&=\\sum_{ijk} m_{ik}\\rho_{kj,ij}.\n",
    "\\end{align}\n",
    "Esta simplificación es muy útil. Si no hemos platicado suficiente de ella, debemos detenernos acá."
   ]
  },
  {
   "cell_type": "markdown",
   "metadata": {},
   "source": [
    "Ahora, sea $|\\psi\\rangle \\in \\mathcal{H}_A\\otimes\\mathcal{H}_B$ un estado puro definido en este espacio, queremos calcular el estado reducido para el subsistema $A$. Para este fin calculamos la _traza parcial_, que basicamente equivale a promediar los grados de libertad de el subsistema $B$ (algo parecido a una distribución marginal, sin olvidar que en mecánica cuántica tenemos el ingrediente extra: las coherencias, es decir, estas codifican el tipo de probabilidad a la que podemos llamar intrínseca (o cuántica), a diferencia de la epistémica, que es a la que estamos acostumbrados). \n",
    "\n",
    "* Comencemos con la traza parcial de estados puros:\n",
    "\n",
    "$\\rho_A=\\text{tr}_B \\rho_{\\psi}$, donde $\\rho_A$ es la matriz de densidad reducida para el subsistema $A$, es decir, es el estado cuántico del sistema $A$ y $\\rho_{\\psi}$ es el proyector del sistema total, es decir, su matriz de densidad, $\\rho_{\\psi}=|\\psi\\rangle\\langle\\psi|$. Tenemos entonces:\n",
    "\n",
    "$\\rho_A=\\text{tr}_B \\rho_{\\psi}=\\sum_{i} \\langle i_B | \\rho_{\\psi} | i_B \\rangle$, donde $|i_B\\rangle$, es una base arbitraria y ortonormal en el espacio $\\mathcal{H}_B$, es decir, no importa que base usamos, al igual que la traza total, pero esta vez solo usando elementos de la base de $B$, de ahi el nombre traza parcial.\n",
    "\n",
    "Podemos ver que que $\\rho_A=\\sum_{i} \\langle i_B | \\rho_{\\psi} | i_B \\rangle= \\sum_{i,i',k} c_{i j} c^{*}_{i'j} |i_A \\rangle \\langle i'_A|$, donde los $c_{ij}$ son las componentes del estado puro: $|\\psi\\rangle=\\sum_{ij}c_{ij}|i_Aj_B\\rangle$"
   ]
  },
  {
   "cell_type": "code",
   "execution_count": 15,
   "metadata": {
    "collapsed": false
   },
   "outputs": [
    {
     "data": {
      "text/plain": [
       "partial_trace_pure_bipartite_mat"
      ]
     },
     "execution_count": 15,
     "metadata": {},
     "output_type": "execute_result"
    }
   ],
   "source": [
    "# Vectorizado\n",
    "\"\"\"\n",
    "Traza parcial, dim es la dimensión del sistema A, y system es A:=1 y B:=2\n",
    "\"\"\"\n",
    "function partial_trace_pure_bipartite_mat(state,dim,system)\n",
    "    dimtotal=length(state)[1]\n",
    "    dimcomp=Int(dimtotal/dim)\n",
    "    psi=reshape(state,(dimcomp,dim))'\n",
    "    if system==1\n",
    "        psi=conj(psi)\n",
    "        return psi*psi'\n",
    "        elseif system==2\n",
    "        return psi'*psi\n",
    "    end\n",
    "end"
   ]
  },
  {
   "cell_type": "code",
   "execution_count": 16,
   "metadata": {
    "collapsed": false
   },
   "outputs": [],
   "source": [
    "state_A=random_state(2);\n",
    "state_B=random_state(4);\n",
    "stateAB=kron(state_A,state_B);"
   ]
  },
  {
   "cell_type": "code",
   "execution_count": 17,
   "metadata": {
    "collapsed": false
   },
   "outputs": [
    {
     "data": {
      "text/plain": [
       "2×2 Array{Complex{Float64},2}:\n",
       "   0.998876+0.0im         -0.0329507-0.00609792im\n",
       " -0.0329507+0.00609792im   0.0011242+0.0im       "
      ]
     },
     "execution_count": 17,
     "metadata": {},
     "output_type": "execute_result"
    }
   ],
   "source": [
    "partial_trace_pure_bipartite_mat(stateAB,2,1)"
   ]
  },
  {
   "cell_type": "code",
   "execution_count": 18,
   "metadata": {
    "collapsed": false
   },
   "outputs": [
    {
     "data": {
      "text/plain": [
       "2×2 Array{Complex{Float64},2}:\n",
       "   0.998876+0.0im         -0.0329507-0.00609792im\n",
       " -0.0329507+0.00609792im   0.0011242+0.0im       "
      ]
     },
     "execution_count": 18,
     "metadata": {},
     "output_type": "execute_result"
    }
   ],
   "source": [
    "projector(state_A)"
   ]
  },
  {
   "cell_type": "code",
   "execution_count": 19,
   "metadata": {
    "collapsed": false
   },
   "outputs": [
    {
     "name": "stdout",
     "output_type": "stream",
     "text": [
      "norm(partial_trace_pure_bipartite_mat(stateAB,2,2) - projector(state_B)) = 1.2717712130468498e-16\n"
     ]
    },
    {
     "data": {
      "text/plain": [
       "1.2717712130468498e-16"
      ]
     },
     "execution_count": 19,
     "metadata": {},
     "output_type": "execute_result"
    }
   ],
   "source": [
    "@show norm(partial_trace_pure_bipartite_mat(stateAB,2,2)-projector(state_B))"
   ]
  },
  {
   "cell_type": "markdown",
   "metadata": {},
   "source": [
    "# Tarea"
   ]
  },
  {
   "cell_type": "markdown",
   "metadata": {},
   "source": [
    "* Verificar que el estado de Bob antes de aprender los resultados de la medición de Alice, es equivalente a tener un estado $|0\\rangle$ o $|1\\rangle$ con igual probabilidad.\n",
    "* Hacer un script que verifique el la traza parcial de un estado aleatorio, tiene traza uno y es semipositiva. \n",
    "* Estudiar la distribución de la pureza, $P=\\text{tr} \\rho^2$, de un sistema como función de la dimension del sistema central y del ambiente. Presentarlo en dos gráficas. \n",
    "* Calcular la entropía de von Neumann vs la pureza para estados mixtos aleatorios."
   ]
  },
  {
   "cell_type": "markdown",
   "metadata": {},
   "source": [
    "# Por hacer para la siguiente iteracion"
   ]
  }
 ],
 "metadata": {
  "kernelspec": {
   "display_name": "Julia 0.5.0",
   "language": "julia",
   "name": "julia-0.5"
  },
  "language_info": {
   "file_extension": ".jl",
   "mimetype": "application/julia",
   "name": "julia",
   "version": "0.5.0"
  },
  "latex_envs": {
   "bibliofile": "biblio.bib",
   "cite_by": "apalike",
   "current_citInitial": 1,
   "eqLabelWithNumbers": true,
   "eqNumInitial": 0
  }
 },
 "nbformat": 4,
 "nbformat_minor": 0
}
